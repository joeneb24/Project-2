{
  "nbformat": 4,
  "nbformat_minor": 0,
  "metadata": {
    "colab": {
      "provenance": [],
      "authorship_tag": "ABX9TyP8PGJ1bKT8GXbFsFUCAs/c",
      "include_colab_link": true
    },
    "kernelspec": {
      "name": "python3",
      "display_name": "Python 3"
    },
    "language_info": {
      "name": "python"
    }
  },
  "cells": [
    {
      "cell_type": "markdown",
      "metadata": {
        "id": "view-in-github",
        "colab_type": "text"
      },
      "source": [
        "<a href=\"https://colab.research.google.com/github/joeneb24/Project-2/blob/main/Project2LifeInsurance.ipynb\" target=\"_parent\"><img src=\"https://colab.research.google.com/assets/colab-badge.svg\" alt=\"Open In Colab\"/></a>"
      ]
    },
    {
      "cell_type": "markdown",
      "source": [
        "Joseph Nebres"
      ],
      "metadata": {
        "id": "QaONX6cgqRzp"
      }
    },
    {
      "cell_type": "markdown",
      "source": [
        "# Project 2: Life Insurance Underwriting"
      ],
      "metadata": {
        "id": "NrppdfgzgRDQ"
      }
    },
    {
      "cell_type": "code",
      "execution_count": 1,
      "metadata": {
        "id": "SMlsiwrwgMiP"
      },
      "outputs": [],
      "source": [
        "## Pandas\n",
        "import pandas as pd\n",
        "## Numpy\n",
        "import numpy as np\n",
        "## MatplotLib\n",
        "import matplotlib.pyplot as plt\n",
        "## Seaborn\n",
        "import seaborn as sns\n",
        "\n",
        "## Preprocessing\n",
        "from sklearn.model_selection import train_test_split\n",
        "from sklearn.compose import make_column_selector \n",
        "from sklearn.preprocessing import StandardScaler, OneHotEncoder\n",
        "from sklearn.pipeline import make_pipeline\n",
        "from sklearn.compose import make_column_transformer\n",
        "\n",
        "## Models\n",
        "from sklearn.linear_model import LogisticRegression\n",
        "from sklearn.ensemble import RandomForestClassifier\n",
        "from sklearn.neighbors import KNeighborsClassifier\n",
        "from xgboost import XGBClassifier\n",
        "\n",
        "## Classification Metrics\n",
        "from sklearn.metrics import (roc_auc_score, ConfusionMatrixDisplay, \n",
        "                             PrecisionRecallDisplay, RocCurveDisplay, \n",
        "                             f1_score, accuracy_score, precision_score,\n",
        "                             recall_score, classification_report)\n",
        "\n",
        "## Set global scikit-learn configuration \n",
        "from sklearn import set_config\n",
        "## Display estimators as a diagram\n",
        "set_config(display='diagram') # 'text' or 'diagram'}"
      ]
    },
    {
      "cell_type": "code",
      "source": [
        "df = pd.read_csv('https://docs.google.com/spreadsheets/d/e/2PACX-1vQjrqP-rni9ezWD60lZS4QJWiQWO8Fu69iOQnBVs9nGosi6aD30PfoXYJBCrA-LIJ5Ek_giJQUf5OdG/pub?gid=517654057&single=true&output=csv')\n",
        "df.head()"
      ],
      "metadata": {
        "colab": {
          "base_uri": "https://localhost:8080/",
          "height": 300
        },
        "id": "k0qly1xhgSR0",
        "outputId": "63ffd7bb-8310-4761-a1c1-2d69ff2e370c"
      },
      "execution_count": 2,
      "outputs": [
        {
          "output_type": "execute_result",
          "data": {
            "text/plain": [
              "   Id  Product_Info_1 Product_Info_2  Product_Info_3  Product_Info_4  \\\n",
              "0   2               1             D3              10        0.076923   \n",
              "1   5               1             A1              26        0.076923   \n",
              "2   6               1             E1              26        0.076923   \n",
              "3   7               1             D4              10        0.487179   \n",
              "4   8               1             D2              26        0.230769   \n",
              "\n",
              "   Product_Info_5  Product_Info_6  Product_Info_7   Ins_Age        Ht  ...  \\\n",
              "0               2               1               1  0.641791  0.581818  ...   \n",
              "1               2               3               1  0.059701  0.600000  ...   \n",
              "2               2               3               1  0.029851  0.745455  ...   \n",
              "3               2               3               1  0.164179  0.672727  ...   \n",
              "4               2               3               1  0.417910  0.654545  ...   \n",
              "\n",
              "   Medical_Keyword_40  Medical_Keyword_41  Medical_Keyword_42  \\\n",
              "0                   0                   0                   0   \n",
              "1                   0                   0                   0   \n",
              "2                   0                   0                   0   \n",
              "3                   0                   0                   0   \n",
              "4                   0                   0                   0   \n",
              "\n",
              "   Medical_Keyword_43  Medical_Keyword_44  Medical_Keyword_45  \\\n",
              "0                   0                   0                   0   \n",
              "1                   0                   0                   0   \n",
              "2                   0                   0                   0   \n",
              "3                   0                   0                   0   \n",
              "4                   0                   0                   0   \n",
              "\n",
              "   Medical_Keyword_46  Medical_Keyword_47  Medical_Keyword_48  Response  \n",
              "0                   0                   0                   0         8  \n",
              "1                   0                   0                   0         4  \n",
              "2                   0                   0                   0         8  \n",
              "3                   0                   0                   0         8  \n",
              "4                   0                   0                   0         8  \n",
              "\n",
              "[5 rows x 128 columns]"
            ],
            "text/html": [
              "\n",
              "  <div id=\"df-a0598cf6-8193-4319-9218-a399a6f0e0a7\">\n",
              "    <div class=\"colab-df-container\">\n",
              "      <div>\n",
              "<style scoped>\n",
              "    .dataframe tbody tr th:only-of-type {\n",
              "        vertical-align: middle;\n",
              "    }\n",
              "\n",
              "    .dataframe tbody tr th {\n",
              "        vertical-align: top;\n",
              "    }\n",
              "\n",
              "    .dataframe thead th {\n",
              "        text-align: right;\n",
              "    }\n",
              "</style>\n",
              "<table border=\"1\" class=\"dataframe\">\n",
              "  <thead>\n",
              "    <tr style=\"text-align: right;\">\n",
              "      <th></th>\n",
              "      <th>Id</th>\n",
              "      <th>Product_Info_1</th>\n",
              "      <th>Product_Info_2</th>\n",
              "      <th>Product_Info_3</th>\n",
              "      <th>Product_Info_4</th>\n",
              "      <th>Product_Info_5</th>\n",
              "      <th>Product_Info_6</th>\n",
              "      <th>Product_Info_7</th>\n",
              "      <th>Ins_Age</th>\n",
              "      <th>Ht</th>\n",
              "      <th>...</th>\n",
              "      <th>Medical_Keyword_40</th>\n",
              "      <th>Medical_Keyword_41</th>\n",
              "      <th>Medical_Keyword_42</th>\n",
              "      <th>Medical_Keyword_43</th>\n",
              "      <th>Medical_Keyword_44</th>\n",
              "      <th>Medical_Keyword_45</th>\n",
              "      <th>Medical_Keyword_46</th>\n",
              "      <th>Medical_Keyword_47</th>\n",
              "      <th>Medical_Keyword_48</th>\n",
              "      <th>Response</th>\n",
              "    </tr>\n",
              "  </thead>\n",
              "  <tbody>\n",
              "    <tr>\n",
              "      <th>0</th>\n",
              "      <td>2</td>\n",
              "      <td>1</td>\n",
              "      <td>D3</td>\n",
              "      <td>10</td>\n",
              "      <td>0.076923</td>\n",
              "      <td>2</td>\n",
              "      <td>1</td>\n",
              "      <td>1</td>\n",
              "      <td>0.641791</td>\n",
              "      <td>0.581818</td>\n",
              "      <td>...</td>\n",
              "      <td>0</td>\n",
              "      <td>0</td>\n",
              "      <td>0</td>\n",
              "      <td>0</td>\n",
              "      <td>0</td>\n",
              "      <td>0</td>\n",
              "      <td>0</td>\n",
              "      <td>0</td>\n",
              "      <td>0</td>\n",
              "      <td>8</td>\n",
              "    </tr>\n",
              "    <tr>\n",
              "      <th>1</th>\n",
              "      <td>5</td>\n",
              "      <td>1</td>\n",
              "      <td>A1</td>\n",
              "      <td>26</td>\n",
              "      <td>0.076923</td>\n",
              "      <td>2</td>\n",
              "      <td>3</td>\n",
              "      <td>1</td>\n",
              "      <td>0.059701</td>\n",
              "      <td>0.600000</td>\n",
              "      <td>...</td>\n",
              "      <td>0</td>\n",
              "      <td>0</td>\n",
              "      <td>0</td>\n",
              "      <td>0</td>\n",
              "      <td>0</td>\n",
              "      <td>0</td>\n",
              "      <td>0</td>\n",
              "      <td>0</td>\n",
              "      <td>0</td>\n",
              "      <td>4</td>\n",
              "    </tr>\n",
              "    <tr>\n",
              "      <th>2</th>\n",
              "      <td>6</td>\n",
              "      <td>1</td>\n",
              "      <td>E1</td>\n",
              "      <td>26</td>\n",
              "      <td>0.076923</td>\n",
              "      <td>2</td>\n",
              "      <td>3</td>\n",
              "      <td>1</td>\n",
              "      <td>0.029851</td>\n",
              "      <td>0.745455</td>\n",
              "      <td>...</td>\n",
              "      <td>0</td>\n",
              "      <td>0</td>\n",
              "      <td>0</td>\n",
              "      <td>0</td>\n",
              "      <td>0</td>\n",
              "      <td>0</td>\n",
              "      <td>0</td>\n",
              "      <td>0</td>\n",
              "      <td>0</td>\n",
              "      <td>8</td>\n",
              "    </tr>\n",
              "    <tr>\n",
              "      <th>3</th>\n",
              "      <td>7</td>\n",
              "      <td>1</td>\n",
              "      <td>D4</td>\n",
              "      <td>10</td>\n",
              "      <td>0.487179</td>\n",
              "      <td>2</td>\n",
              "      <td>3</td>\n",
              "      <td>1</td>\n",
              "      <td>0.164179</td>\n",
              "      <td>0.672727</td>\n",
              "      <td>...</td>\n",
              "      <td>0</td>\n",
              "      <td>0</td>\n",
              "      <td>0</td>\n",
              "      <td>0</td>\n",
              "      <td>0</td>\n",
              "      <td>0</td>\n",
              "      <td>0</td>\n",
              "      <td>0</td>\n",
              "      <td>0</td>\n",
              "      <td>8</td>\n",
              "    </tr>\n",
              "    <tr>\n",
              "      <th>4</th>\n",
              "      <td>8</td>\n",
              "      <td>1</td>\n",
              "      <td>D2</td>\n",
              "      <td>26</td>\n",
              "      <td>0.230769</td>\n",
              "      <td>2</td>\n",
              "      <td>3</td>\n",
              "      <td>1</td>\n",
              "      <td>0.417910</td>\n",
              "      <td>0.654545</td>\n",
              "      <td>...</td>\n",
              "      <td>0</td>\n",
              "      <td>0</td>\n",
              "      <td>0</td>\n",
              "      <td>0</td>\n",
              "      <td>0</td>\n",
              "      <td>0</td>\n",
              "      <td>0</td>\n",
              "      <td>0</td>\n",
              "      <td>0</td>\n",
              "      <td>8</td>\n",
              "    </tr>\n",
              "  </tbody>\n",
              "</table>\n",
              "<p>5 rows × 128 columns</p>\n",
              "</div>\n",
              "      <button class=\"colab-df-convert\" onclick=\"convertToInteractive('df-a0598cf6-8193-4319-9218-a399a6f0e0a7')\"\n",
              "              title=\"Convert this dataframe to an interactive table.\"\n",
              "              style=\"display:none;\">\n",
              "        \n",
              "  <svg xmlns=\"http://www.w3.org/2000/svg\" height=\"24px\"viewBox=\"0 0 24 24\"\n",
              "       width=\"24px\">\n",
              "    <path d=\"M0 0h24v24H0V0z\" fill=\"none\"/>\n",
              "    <path d=\"M18.56 5.44l.94 2.06.94-2.06 2.06-.94-2.06-.94-.94-2.06-.94 2.06-2.06.94zm-11 1L8.5 8.5l.94-2.06 2.06-.94-2.06-.94L8.5 2.5l-.94 2.06-2.06.94zm10 10l.94 2.06.94-2.06 2.06-.94-2.06-.94-.94-2.06-.94 2.06-2.06.94z\"/><path d=\"M17.41 7.96l-1.37-1.37c-.4-.4-.92-.59-1.43-.59-.52 0-1.04.2-1.43.59L10.3 9.45l-7.72 7.72c-.78.78-.78 2.05 0 2.83L4 21.41c.39.39.9.59 1.41.59.51 0 1.02-.2 1.41-.59l7.78-7.78 2.81-2.81c.8-.78.8-2.07 0-2.86zM5.41 20L4 18.59l7.72-7.72 1.47 1.35L5.41 20z\"/>\n",
              "  </svg>\n",
              "      </button>\n",
              "      \n",
              "  <style>\n",
              "    .colab-df-container {\n",
              "      display:flex;\n",
              "      flex-wrap:wrap;\n",
              "      gap: 12px;\n",
              "    }\n",
              "\n",
              "    .colab-df-convert {\n",
              "      background-color: #E8F0FE;\n",
              "      border: none;\n",
              "      border-radius: 50%;\n",
              "      cursor: pointer;\n",
              "      display: none;\n",
              "      fill: #1967D2;\n",
              "      height: 32px;\n",
              "      padding: 0 0 0 0;\n",
              "      width: 32px;\n",
              "    }\n",
              "\n",
              "    .colab-df-convert:hover {\n",
              "      background-color: #E2EBFA;\n",
              "      box-shadow: 0px 1px 2px rgba(60, 64, 67, 0.3), 0px 1px 3px 1px rgba(60, 64, 67, 0.15);\n",
              "      fill: #174EA6;\n",
              "    }\n",
              "\n",
              "    [theme=dark] .colab-df-convert {\n",
              "      background-color: #3B4455;\n",
              "      fill: #D2E3FC;\n",
              "    }\n",
              "\n",
              "    [theme=dark] .colab-df-convert:hover {\n",
              "      background-color: #434B5C;\n",
              "      box-shadow: 0px 1px 3px 1px rgba(0, 0, 0, 0.15);\n",
              "      filter: drop-shadow(0px 1px 2px rgba(0, 0, 0, 0.3));\n",
              "      fill: #FFFFFF;\n",
              "    }\n",
              "  </style>\n",
              "\n",
              "      <script>\n",
              "        const buttonEl =\n",
              "          document.querySelector('#df-a0598cf6-8193-4319-9218-a399a6f0e0a7 button.colab-df-convert');\n",
              "        buttonEl.style.display =\n",
              "          google.colab.kernel.accessAllowed ? 'block' : 'none';\n",
              "\n",
              "        async function convertToInteractive(key) {\n",
              "          const element = document.querySelector('#df-a0598cf6-8193-4319-9218-a399a6f0e0a7');\n",
              "          const dataTable =\n",
              "            await google.colab.kernel.invokeFunction('convertToInteractive',\n",
              "                                                     [key], {});\n",
              "          if (!dataTable) return;\n",
              "\n",
              "          const docLinkHtml = 'Like what you see? Visit the ' +\n",
              "            '<a target=\"_blank\" href=https://colab.research.google.com/notebooks/data_table.ipynb>data table notebook</a>'\n",
              "            + ' to learn more about interactive tables.';\n",
              "          element.innerHTML = '';\n",
              "          dataTable['output_type'] = 'display_data';\n",
              "          await google.colab.output.renderOutput(dataTable, element);\n",
              "          const docLink = document.createElement('div');\n",
              "          docLink.innerHTML = docLinkHtml;\n",
              "          element.appendChild(docLink);\n",
              "        }\n",
              "      </script>\n",
              "    </div>\n",
              "  </div>\n",
              "  "
            ]
          },
          "metadata": {},
          "execution_count": 2
        }
      ]
    },
    {
      "cell_type": "markdown",
      "source": [
        "## Data Exploration\n",
        "\n",
        "\n",
        "\n"
      ],
      "metadata": {
        "id": "wgPSu5EvquLL"
      }
    },
    {
      "cell_type": "markdown",
      "source": [
        "![image.png](data:image/png;base64,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)"
      ],
      "metadata": {
        "id": "N-qX6DetOxYo"
      }
    },
    {
      "cell_type": "code",
      "source": [
        "df.info(verbose=True, show_counts=True)"
      ],
      "metadata": {
        "colab": {
          "base_uri": "https://localhost:8080/"
        },
        "id": "GbLv3nfAggPx",
        "outputId": "a6f32266-e15e-459b-abe7-ff9851b79488"
      },
      "execution_count": 3,
      "outputs": [
        {
          "output_type": "stream",
          "name": "stdout",
          "text": [
            "<class 'pandas.core.frame.DataFrame'>\n",
            "RangeIndex: 59381 entries, 0 to 59380\n",
            "Data columns (total 128 columns):\n",
            " #    Column               Non-Null Count  Dtype  \n",
            "---   ------               --------------  -----  \n",
            " 0    Id                   59381 non-null  int64  \n",
            " 1    Product_Info_1       59381 non-null  int64  \n",
            " 2    Product_Info_2       59381 non-null  object \n",
            " 3    Product_Info_3       59381 non-null  int64  \n",
            " 4    Product_Info_4       59381 non-null  float64\n",
            " 5    Product_Info_5       59381 non-null  int64  \n",
            " 6    Product_Info_6       59381 non-null  int64  \n",
            " 7    Product_Info_7       59381 non-null  int64  \n",
            " 8    Ins_Age              59381 non-null  float64\n",
            " 9    Ht                   59381 non-null  float64\n",
            " 10   Wt                   59381 non-null  float64\n",
            " 11   BMI                  59381 non-null  float64\n",
            " 12   Employment_Info_1    59362 non-null  float64\n",
            " 13   Employment_Info_2    59381 non-null  int64  \n",
            " 14   Employment_Info_3    59381 non-null  int64  \n",
            " 15   Employment_Info_4    52602 non-null  float64\n",
            " 16   Employment_Info_5    59381 non-null  int64  \n",
            " 17   Employment_Info_6    48527 non-null  float64\n",
            " 18   InsuredInfo_1        59381 non-null  int64  \n",
            " 19   InsuredInfo_2        59381 non-null  int64  \n",
            " 20   InsuredInfo_3        59381 non-null  int64  \n",
            " 21   InsuredInfo_4        59381 non-null  int64  \n",
            " 22   InsuredInfo_5        59381 non-null  int64  \n",
            " 23   InsuredInfo_6        59381 non-null  int64  \n",
            " 24   InsuredInfo_7        59381 non-null  int64  \n",
            " 25   Insurance_History_1  59381 non-null  int64  \n",
            " 26   Insurance_History_2  59381 non-null  int64  \n",
            " 27   Insurance_History_3  59381 non-null  int64  \n",
            " 28   Insurance_History_4  59381 non-null  int64  \n",
            " 29   Insurance_History_5  33985 non-null  float64\n",
            " 30   Insurance_History_7  59381 non-null  int64  \n",
            " 31   Insurance_History_8  59381 non-null  int64  \n",
            " 32   Insurance_History_9  59381 non-null  int64  \n",
            " 33   Family_Hist_1        59381 non-null  int64  \n",
            " 34   Family_Hist_2        30725 non-null  float64\n",
            " 35   Family_Hist_3        25140 non-null  float64\n",
            " 36   Family_Hist_4        40197 non-null  float64\n",
            " 37   Family_Hist_5        17570 non-null  float64\n",
            " 38   Medical_History_1    50492 non-null  float64\n",
            " 39   Medical_History_2    59381 non-null  int64  \n",
            " 40   Medical_History_3    59381 non-null  int64  \n",
            " 41   Medical_History_4    59381 non-null  int64  \n",
            " 42   Medical_History_5    59381 non-null  int64  \n",
            " 43   Medical_History_6    59381 non-null  int64  \n",
            " 44   Medical_History_7    59381 non-null  int64  \n",
            " 45   Medical_History_8    59381 non-null  int64  \n",
            " 46   Medical_History_9    59381 non-null  int64  \n",
            " 47   Medical_History_10   557 non-null    float64\n",
            " 48   Medical_History_11   59381 non-null  int64  \n",
            " 49   Medical_History_12   59381 non-null  int64  \n",
            " 50   Medical_History_13   59381 non-null  int64  \n",
            " 51   Medical_History_14   59381 non-null  int64  \n",
            " 52   Medical_History_15   14785 non-null  float64\n",
            " 53   Medical_History_16   59381 non-null  int64  \n",
            " 54   Medical_History_17   59381 non-null  int64  \n",
            " 55   Medical_History_18   59381 non-null  int64  \n",
            " 56   Medical_History_19   59381 non-null  int64  \n",
            " 57   Medical_History_20   59381 non-null  int64  \n",
            " 58   Medical_History_21   59381 non-null  int64  \n",
            " 59   Medical_History_22   59381 non-null  int64  \n",
            " 60   Medical_History_23   59381 non-null  int64  \n",
            " 61   Medical_History_24   3801 non-null   float64\n",
            " 62   Medical_History_25   59381 non-null  int64  \n",
            " 63   Medical_History_26   59381 non-null  int64  \n",
            " 64   Medical_History_27   59381 non-null  int64  \n",
            " 65   Medical_History_28   59381 non-null  int64  \n",
            " 66   Medical_History_29   59381 non-null  int64  \n",
            " 67   Medical_History_30   59381 non-null  int64  \n",
            " 68   Medical_History_31   59381 non-null  int64  \n",
            " 69   Medical_History_32   1107 non-null   float64\n",
            " 70   Medical_History_33   59381 non-null  int64  \n",
            " 71   Medical_History_34   59381 non-null  int64  \n",
            " 72   Medical_History_35   59381 non-null  int64  \n",
            " 73   Medical_History_36   59381 non-null  int64  \n",
            " 74   Medical_History_37   59381 non-null  int64  \n",
            " 75   Medical_History_38   59381 non-null  int64  \n",
            " 76   Medical_History_39   59381 non-null  int64  \n",
            " 77   Medical_History_40   59381 non-null  int64  \n",
            " 78   Medical_History_41   59381 non-null  int64  \n",
            " 79   Medical_Keyword_1    59381 non-null  int64  \n",
            " 80   Medical_Keyword_2    59381 non-null  int64  \n",
            " 81   Medical_Keyword_3    59381 non-null  int64  \n",
            " 82   Medical_Keyword_4    59381 non-null  int64  \n",
            " 83   Medical_Keyword_5    59381 non-null  int64  \n",
            " 84   Medical_Keyword_6    59381 non-null  int64  \n",
            " 85   Medical_Keyword_7    59381 non-null  int64  \n",
            " 86   Medical_Keyword_8    59381 non-null  int64  \n",
            " 87   Medical_Keyword_9    59381 non-null  int64  \n",
            " 88   Medical_Keyword_10   59381 non-null  int64  \n",
            " 89   Medical_Keyword_11   59381 non-null  int64  \n",
            " 90   Medical_Keyword_12   59381 non-null  int64  \n",
            " 91   Medical_Keyword_13   59381 non-null  int64  \n",
            " 92   Medical_Keyword_14   59381 non-null  int64  \n",
            " 93   Medical_Keyword_15   59381 non-null  int64  \n",
            " 94   Medical_Keyword_16   59381 non-null  int64  \n",
            " 95   Medical_Keyword_17   59381 non-null  int64  \n",
            " 96   Medical_Keyword_18   59381 non-null  int64  \n",
            " 97   Medical_Keyword_19   59381 non-null  int64  \n",
            " 98   Medical_Keyword_20   59381 non-null  int64  \n",
            " 99   Medical_Keyword_21   59381 non-null  int64  \n",
            " 100  Medical_Keyword_22   59381 non-null  int64  \n",
            " 101  Medical_Keyword_23   59381 non-null  int64  \n",
            " 102  Medical_Keyword_24   59381 non-null  int64  \n",
            " 103  Medical_Keyword_25   59381 non-null  int64  \n",
            " 104  Medical_Keyword_26   59381 non-null  int64  \n",
            " 105  Medical_Keyword_27   59381 non-null  int64  \n",
            " 106  Medical_Keyword_28   59381 non-null  int64  \n",
            " 107  Medical_Keyword_29   59381 non-null  int64  \n",
            " 108  Medical_Keyword_30   59381 non-null  int64  \n",
            " 109  Medical_Keyword_31   59381 non-null  int64  \n",
            " 110  Medical_Keyword_32   59381 non-null  int64  \n",
            " 111  Medical_Keyword_33   59381 non-null  int64  \n",
            " 112  Medical_Keyword_34   59381 non-null  int64  \n",
            " 113  Medical_Keyword_35   59381 non-null  int64  \n",
            " 114  Medical_Keyword_36   59381 non-null  int64  \n",
            " 115  Medical_Keyword_37   59381 non-null  int64  \n",
            " 116  Medical_Keyword_38   59381 non-null  int64  \n",
            " 117  Medical_Keyword_39   59381 non-null  int64  \n",
            " 118  Medical_Keyword_40   59381 non-null  int64  \n",
            " 119  Medical_Keyword_41   59381 non-null  int64  \n",
            " 120  Medical_Keyword_42   59381 non-null  int64  \n",
            " 121  Medical_Keyword_43   59381 non-null  int64  \n",
            " 122  Medical_Keyword_44   59381 non-null  int64  \n",
            " 123  Medical_Keyword_45   59381 non-null  int64  \n",
            " 124  Medical_Keyword_46   59381 non-null  int64  \n",
            " 125  Medical_Keyword_47   59381 non-null  int64  \n",
            " 126  Medical_Keyword_48   59381 non-null  int64  \n",
            " 127  Response             59381 non-null  int64  \n",
            "dtypes: float64(18), int64(109), object(1)\n",
            "memory usage: 58.0+ MB\n"
          ]
        }
      ]
    },
    {
      "cell_type": "markdown",
      "source": [
        "We see that there are more than the suggested 25 features, therefore we will choose which columns to highlight what we know about data cleaning and machine learning for this particular project. I will choose the columns that I believe are the best to show my skill set as a data scientist. In this case, I will choose the object feature 'Product_Info_2' and the customer's height and weight. In insurance, high and weight are important in determining someone's premium and if they are approved for a certain policy, as well as there  health rating. I also included at least one column from each category to make the problem more interesting. I chose the columns with missing data to show my process of data cleaning. Again, the 'Response' is the target we are trying to predict. Also, from the data dictionary, the columns 'Medical_Keyword' are dummy values, so we will drop these as well. "
      ],
      "metadata": {
        "id": "HDfVbRK2q24g"
      }
    },
    {
      "cell_type": "code",
      "source": [
        "df.shape"
      ],
      "metadata": {
        "colab": {
          "base_uri": "https://localhost:8080/"
        },
        "id": "9u5z99eDgiSw",
        "outputId": "9345fa26-bd13-44c0-8715-1693a9c4b555"
      },
      "execution_count": 4,
      "outputs": [
        {
          "output_type": "execute_result",
          "data": {
            "text/plain": [
              "(59381, 128)"
            ]
          },
          "metadata": {},
          "execution_count": 4
        }
      ]
    },
    {
      "cell_type": "code",
      "source": [
        "df = df[['Id', 'Product_Info_1','Product_Info_2','Product_Info_3','Product_Info_4','Product_Info_5','Product_Info_6','Product_Info_7',\n",
        "         'Ins_Age','Ht','Wt','BMI','Employment_Info_4', 'Employment_Info_6', 'InsuredInfo_1', 'Insurance_History_1', 'Insurance_History_5',\n",
        "         'Family_Hist_1','Family_Hist_2','Family_Hist_3', 'Family_Hist_4','Family_Hist_5','Medical_History_1','Medical_History_2','Medical_History_10',\n",
        "         'Medical_History_15','Medical_History_24','Medical_History_32','Response']]"
      ],
      "metadata": {
        "id": "5zZk5So_lYNY"
      },
      "execution_count": 5,
      "outputs": []
    },
    {
      "cell_type": "code",
      "source": [
        "df.info()"
      ],
      "metadata": {
        "colab": {
          "base_uri": "https://localhost:8080/"
        },
        "id": "BTqaLBoInnQz",
        "outputId": "7020eef4-ffa2-45db-b843-dbdc544847bf"
      },
      "execution_count": 6,
      "outputs": [
        {
          "output_type": "stream",
          "name": "stdout",
          "text": [
            "<class 'pandas.core.frame.DataFrame'>\n",
            "RangeIndex: 59381 entries, 0 to 59380\n",
            "Data columns (total 29 columns):\n",
            " #   Column               Non-Null Count  Dtype  \n",
            "---  ------               --------------  -----  \n",
            " 0   Id                   59381 non-null  int64  \n",
            " 1   Product_Info_1       59381 non-null  int64  \n",
            " 2   Product_Info_2       59381 non-null  object \n",
            " 3   Product_Info_3       59381 non-null  int64  \n",
            " 4   Product_Info_4       59381 non-null  float64\n",
            " 5   Product_Info_5       59381 non-null  int64  \n",
            " 6   Product_Info_6       59381 non-null  int64  \n",
            " 7   Product_Info_7       59381 non-null  int64  \n",
            " 8   Ins_Age              59381 non-null  float64\n",
            " 9   Ht                   59381 non-null  float64\n",
            " 10  Wt                   59381 non-null  float64\n",
            " 11  BMI                  59381 non-null  float64\n",
            " 12  Employment_Info_4    52602 non-null  float64\n",
            " 13  Employment_Info_6    48527 non-null  float64\n",
            " 14  InsuredInfo_1        59381 non-null  int64  \n",
            " 15  Insurance_History_1  59381 non-null  int64  \n",
            " 16  Insurance_History_5  33985 non-null  float64\n",
            " 17  Family_Hist_1        59381 non-null  int64  \n",
            " 18  Family_Hist_2        30725 non-null  float64\n",
            " 19  Family_Hist_3        25140 non-null  float64\n",
            " 20  Family_Hist_4        40197 non-null  float64\n",
            " 21  Family_Hist_5        17570 non-null  float64\n",
            " 22  Medical_History_1    50492 non-null  float64\n",
            " 23  Medical_History_2    59381 non-null  int64  \n",
            " 24  Medical_History_10   557 non-null    float64\n",
            " 25  Medical_History_15   14785 non-null  float64\n",
            " 26  Medical_History_24   3801 non-null   float64\n",
            " 27  Medical_History_32   1107 non-null   float64\n",
            " 28  Response             59381 non-null  int64  \n",
            "dtypes: float64(17), int64(11), object(1)\n",
            "memory usage: 13.1+ MB\n"
          ]
        }
      ]
    },
    {
      "cell_type": "code",
      "source": [
        "df.shape"
      ],
      "metadata": {
        "colab": {
          "base_uri": "https://localhost:8080/"
        },
        "id": "qNbYQR8wr5Re",
        "outputId": "c831d876-75db-47d5-ba84-81a25225097f"
      },
      "execution_count": 7,
      "outputs": [
        {
          "output_type": "execute_result",
          "data": {
            "text/plain": [
              "(59381, 29)"
            ]
          },
          "metadata": {},
          "execution_count": 7
        }
      ]
    },
    {
      "cell_type": "markdown",
      "source": [
        "We have narrowed the data features to 28, but will lower that number here soon since some features are missing too much data to account for in our modeling. "
      ],
      "metadata": {
        "id": "zRlxUtpRr6g5"
      }
    },
    {
      "cell_type": "markdown",
      "source": [
        "## Data Cleaning"
      ],
      "metadata": {
        "id": "aLwxwntKqo6a"
      }
    },
    {
      "cell_type": "markdown",
      "source": [
        "We see that the columns 'Family_Hist_3','Family_Hist_5','Medical_History_10','Medical_History_15','Medical_History_24', and 'Medical_History_32' are all missing more than 50% of data, therefore will drop these columns. "
      ],
      "metadata": {
        "id": "otBIgaQ-sna5"
      }
    },
    {
      "cell_type": "code",
      "source": [
        "df.drop(columns = ['Family_Hist_3','Family_Hist_5','Medical_History_10','Medical_History_15','Medical_History_24', 'Medical_History_32'], inplace=True)"
      ],
      "metadata": {
        "id": "5BniQfucsm4b"
      },
      "execution_count": 8,
      "outputs": []
    },
    {
      "cell_type": "code",
      "source": [
        "df.duplicated().sum()"
      ],
      "metadata": {
        "colab": {
          "base_uri": "https://localhost:8080/"
        },
        "id": "Fwhbo36xv75o",
        "outputId": "8d4fe92b-7d31-4414-a219-380a71234f38"
      },
      "execution_count": 9,
      "outputs": [
        {
          "output_type": "execute_result",
          "data": {
            "text/plain": [
              "0"
            ]
          },
          "metadata": {},
          "execution_count": 9
        }
      ]
    },
    {
      "cell_type": "code",
      "source": [
        "df.info()"
      ],
      "metadata": {
        "colab": {
          "base_uri": "https://localhost:8080/"
        },
        "id": "pbHfUrN9noIm",
        "outputId": "005d9001-c88f-4d91-a6a7-d2cafe5cdcee"
      },
      "execution_count": 10,
      "outputs": [
        {
          "output_type": "stream",
          "name": "stdout",
          "text": [
            "<class 'pandas.core.frame.DataFrame'>\n",
            "RangeIndex: 59381 entries, 0 to 59380\n",
            "Data columns (total 23 columns):\n",
            " #   Column               Non-Null Count  Dtype  \n",
            "---  ------               --------------  -----  \n",
            " 0   Id                   59381 non-null  int64  \n",
            " 1   Product_Info_1       59381 non-null  int64  \n",
            " 2   Product_Info_2       59381 non-null  object \n",
            " 3   Product_Info_3       59381 non-null  int64  \n",
            " 4   Product_Info_4       59381 non-null  float64\n",
            " 5   Product_Info_5       59381 non-null  int64  \n",
            " 6   Product_Info_6       59381 non-null  int64  \n",
            " 7   Product_Info_7       59381 non-null  int64  \n",
            " 8   Ins_Age              59381 non-null  float64\n",
            " 9   Ht                   59381 non-null  float64\n",
            " 10  Wt                   59381 non-null  float64\n",
            " 11  BMI                  59381 non-null  float64\n",
            " 12  Employment_Info_4    52602 non-null  float64\n",
            " 13  Employment_Info_6    48527 non-null  float64\n",
            " 14  InsuredInfo_1        59381 non-null  int64  \n",
            " 15  Insurance_History_1  59381 non-null  int64  \n",
            " 16  Insurance_History_5  33985 non-null  float64\n",
            " 17  Family_Hist_1        59381 non-null  int64  \n",
            " 18  Family_Hist_2        30725 non-null  float64\n",
            " 19  Family_Hist_4        40197 non-null  float64\n",
            " 20  Medical_History_1    50492 non-null  float64\n",
            " 21  Medical_History_2    59381 non-null  int64  \n",
            " 22  Response             59381 non-null  int64  \n",
            "dtypes: float64(11), int64(11), object(1)\n",
            "memory usage: 10.4+ MB\n"
          ]
        }
      ]
    },
    {
      "cell_type": "code",
      "source": [
        "df['Id'].value_counts().sum()"
      ],
      "metadata": {
        "colab": {
          "base_uri": "https://localhost:8080/"
        },
        "id": "qn48CMN8uvBD",
        "outputId": "fa68a70e-464c-4371-9b0c-705e33e2619c"
      },
      "execution_count": 11,
      "outputs": [
        {
          "output_type": "execute_result",
          "data": {
            "text/plain": [
              "59381"
            ]
          },
          "metadata": {},
          "execution_count": 11
        }
      ]
    },
    {
      "cell_type": "markdown",
      "source": [
        "The 'Id' column will not help us for predictions, so we will drop the column."
      ],
      "metadata": {
        "id": "wIsDyY20vOOE"
      }
    },
    {
      "cell_type": "code",
      "source": [
        "df.drop(columns='Id', inplace=True)"
      ],
      "metadata": {
        "id": "hN4s1l8avWi7"
      },
      "execution_count": 12,
      "outputs": []
    },
    {
      "cell_type": "code",
      "source": [
        "df.info()"
      ],
      "metadata": {
        "colab": {
          "base_uri": "https://localhost:8080/"
        },
        "id": "15626ZGevfhr",
        "outputId": "5e13df19-8c48-4d3a-a3b1-231bd4e8e516"
      },
      "execution_count": 13,
      "outputs": [
        {
          "output_type": "stream",
          "name": "stdout",
          "text": [
            "<class 'pandas.core.frame.DataFrame'>\n",
            "RangeIndex: 59381 entries, 0 to 59380\n",
            "Data columns (total 22 columns):\n",
            " #   Column               Non-Null Count  Dtype  \n",
            "---  ------               --------------  -----  \n",
            " 0   Product_Info_1       59381 non-null  int64  \n",
            " 1   Product_Info_2       59381 non-null  object \n",
            " 2   Product_Info_3       59381 non-null  int64  \n",
            " 3   Product_Info_4       59381 non-null  float64\n",
            " 4   Product_Info_5       59381 non-null  int64  \n",
            " 5   Product_Info_6       59381 non-null  int64  \n",
            " 6   Product_Info_7       59381 non-null  int64  \n",
            " 7   Ins_Age              59381 non-null  float64\n",
            " 8   Ht                   59381 non-null  float64\n",
            " 9   Wt                   59381 non-null  float64\n",
            " 10  BMI                  59381 non-null  float64\n",
            " 11  Employment_Info_4    52602 non-null  float64\n",
            " 12  Employment_Info_6    48527 non-null  float64\n",
            " 13  InsuredInfo_1        59381 non-null  int64  \n",
            " 14  Insurance_History_1  59381 non-null  int64  \n",
            " 15  Insurance_History_5  33985 non-null  float64\n",
            " 16  Family_Hist_1        59381 non-null  int64  \n",
            " 17  Family_Hist_2        30725 non-null  float64\n",
            " 18  Family_Hist_4        40197 non-null  float64\n",
            " 19  Medical_History_1    50492 non-null  float64\n",
            " 20  Medical_History_2    59381 non-null  int64  \n",
            " 21  Response             59381 non-null  int64  \n",
            "dtypes: float64(11), int64(10), object(1)\n",
            "memory usage: 10.0+ MB\n"
          ]
        }
      ]
    },
    {
      "cell_type": "code",
      "source": [
        "df.isna().sum()"
      ],
      "metadata": {
        "colab": {
          "base_uri": "https://localhost:8080/"
        },
        "id": "72DZqrs9ugLY",
        "outputId": "e57b104b-7fd2-431f-f0cb-f640af9b9875"
      },
      "execution_count": 14,
      "outputs": [
        {
          "output_type": "execute_result",
          "data": {
            "text/plain": [
              "Product_Info_1             0\n",
              "Product_Info_2             0\n",
              "Product_Info_3             0\n",
              "Product_Info_4             0\n",
              "Product_Info_5             0\n",
              "Product_Info_6             0\n",
              "Product_Info_7             0\n",
              "Ins_Age                    0\n",
              "Ht                         0\n",
              "Wt                         0\n",
              "BMI                        0\n",
              "Employment_Info_4       6779\n",
              "Employment_Info_6      10854\n",
              "InsuredInfo_1              0\n",
              "Insurance_History_1        0\n",
              "Insurance_History_5    25396\n",
              "Family_Hist_1              0\n",
              "Family_Hist_2          28656\n",
              "Family_Hist_4          19184\n",
              "Medical_History_1       8889\n",
              "Medical_History_2          0\n",
              "Response                   0\n",
              "dtype: int64"
            ]
          },
          "metadata": {},
          "execution_count": 14
        }
      ]
    },
    {
      "cell_type": "markdown",
      "source": [
        "We see that there are 6 columns missing data, we will deal with this during our data preprocessing. We will not deal with this now, since we do not want data leakage. "
      ],
      "metadata": {
        "id": "1oUVF-rlwRf9"
      }
    },
    {
      "cell_type": "code",
      "source": [
        "df['Product_Info_1'].describe()"
      ],
      "metadata": {
        "colab": {
          "base_uri": "https://localhost:8080/"
        },
        "id": "F4CRwhwDungd",
        "outputId": "e3b8cdec-c031-4e26-ebec-d2e067319c53"
      },
      "execution_count": 15,
      "outputs": [
        {
          "output_type": "execute_result",
          "data": {
            "text/plain": [
              "count    59381.000000\n",
              "mean         1.026355\n",
              "std          0.160191\n",
              "min          1.000000\n",
              "25%          1.000000\n",
              "50%          1.000000\n",
              "75%          1.000000\n",
              "max          2.000000\n",
              "Name: Product_Info_1, dtype: float64"
            ]
          },
          "metadata": {},
          "execution_count": 15
        }
      ]
    },
    {
      "cell_type": "markdown",
      "source": [
        "This data looks normal, no large outliers. The only thing we need to change is that this data type is suppose to be an object since the data dictionary labels it as nominal categorical. "
      ],
      "metadata": {
        "id": "sQYEBS-LxFN6"
      }
    },
    {
      "cell_type": "code",
      "source": [
        "df['Product_Info_1'] = df['Product_Info_1'].astype(object)"
      ],
      "metadata": {
        "id": "hY36tgiO5-q6"
      },
      "execution_count": 16,
      "outputs": []
    },
    {
      "cell_type": "code",
      "source": [
        "df['Product_Info_2'].value_counts()"
      ],
      "metadata": {
        "colab": {
          "base_uri": "https://localhost:8080/"
        },
        "id": "RerpbtECxLff",
        "outputId": "d03a5071-99a9-431c-e04f-7dfc05948f37"
      },
      "execution_count": 17,
      "outputs": [
        {
          "output_type": "execute_result",
          "data": {
            "text/plain": [
              "D3    14321\n",
              "D4    10812\n",
              "A8     6835\n",
              "D1     6554\n",
              "D2     6286\n",
              "E1     2647\n",
              "A1     2363\n",
              "A6     2098\n",
              "A2     1974\n",
              "A7     1383\n",
              "B2     1122\n",
              "A3      977\n",
              "A5      775\n",
              "C3      306\n",
              "C1      285\n",
              "C4      219\n",
              "A4      210\n",
              "C2      160\n",
              "B1       54\n",
              "Name: Product_Info_2, dtype: int64"
            ]
          },
          "metadata": {},
          "execution_count": 17
        }
      ]
    },
    {
      "cell_type": "markdown",
      "source": [
        "Without much context on what these values mean,this data looks normal, no inconsistencies. "
      ],
      "metadata": {
        "id": "TNsXc8J6xV6P"
      }
    },
    {
      "cell_type": "code",
      "source": [
        "df['Product_Info_3'].describe()"
      ],
      "metadata": {
        "colab": {
          "base_uri": "https://localhost:8080/"
        },
        "id": "vvgXxjigxVXF",
        "outputId": "2073759c-dc83-4f7b-b050-0357d701f424"
      },
      "execution_count": 18,
      "outputs": [
        {
          "output_type": "execute_result",
          "data": {
            "text/plain": [
              "count    59381.000000\n",
              "mean        24.415655\n",
              "std          5.072885\n",
              "min          1.000000\n",
              "25%         26.000000\n",
              "50%         26.000000\n",
              "75%         26.000000\n",
              "max         38.000000\n",
              "Name: Product_Info_3, dtype: float64"
            ]
          },
          "metadata": {},
          "execution_count": 18
        }
      ]
    },
    {
      "cell_type": "markdown",
      "source": [
        "This data looks normal, no large outliers. The only thing we need to change is that this data type is suppose to be an object since the data dictionary labels it as nominal categorical. "
      ],
      "metadata": {
        "id": "oSBIPK_5xyNn"
      }
    },
    {
      "cell_type": "code",
      "source": [
        "df['Product_Info_3'] = df['Product_Info_3'].astype(object)"
      ],
      "metadata": {
        "id": "Ueqz6Z2IPyjM"
      },
      "execution_count": 19,
      "outputs": []
    },
    {
      "cell_type": "code",
      "source": [
        "df['Product_Info_4'].describe()"
      ],
      "metadata": {
        "colab": {
          "base_uri": "https://localhost:8080/"
        },
        "id": "JLV7sbRPxTdo",
        "outputId": "0355b3c5-7ef2-46a3-eb73-51cac0086334"
      },
      "execution_count": 20,
      "outputs": [
        {
          "output_type": "execute_result",
          "data": {
            "text/plain": [
              "count    59381.000000\n",
              "mean         0.328952\n",
              "std          0.282562\n",
              "min          0.000000\n",
              "25%          0.076923\n",
              "50%          0.230769\n",
              "75%          0.487179\n",
              "max          1.000000\n",
              "Name: Product_Info_4, dtype: float64"
            ]
          },
          "metadata": {},
          "execution_count": 20
        }
      ]
    },
    {
      "cell_type": "markdown",
      "source": [
        "This data looks normal, no large outliers.\n"
      ],
      "metadata": {
        "id": "bIHzppsax_1I"
      }
    },
    {
      "cell_type": "code",
      "source": [
        "df['Product_Info_5'].describe()"
      ],
      "metadata": {
        "colab": {
          "base_uri": "https://localhost:8080/"
        },
        "id": "7DbePY7ix-hj",
        "outputId": "aebafd6e-61d6-4986-d95a-83b61441f041"
      },
      "execution_count": 21,
      "outputs": [
        {
          "output_type": "execute_result",
          "data": {
            "text/plain": [
              "count    59381.000000\n",
              "mean         2.006955\n",
              "std          0.083107\n",
              "min          2.000000\n",
              "25%          2.000000\n",
              "50%          2.000000\n",
              "75%          2.000000\n",
              "max          3.000000\n",
              "Name: Product_Info_5, dtype: float64"
            ]
          },
          "metadata": {},
          "execution_count": 21
        }
      ]
    },
    {
      "cell_type": "markdown",
      "source": [
        "This data looks normal, no large outliers. The only thing we need to change is that this data type is suppose to be an object since the data dictionary labels it as nominal categorical."
      ],
      "metadata": {
        "id": "uz1GCAsGyGq_"
      }
    },
    {
      "cell_type": "code",
      "source": [
        "df['Product_Info_5'] = df['Product_Info_5'].astype(object)"
      ],
      "metadata": {
        "id": "BymIVDzfP9ls"
      },
      "execution_count": 22,
      "outputs": []
    },
    {
      "cell_type": "code",
      "source": [
        "df['Product_Info_6'].describe()"
      ],
      "metadata": {
        "colab": {
          "base_uri": "https://localhost:8080/"
        },
        "id": "zmut3ZUmyJRk",
        "outputId": "28193a85-32d9-445f-e7d5-6df1f08369c0"
      },
      "execution_count": 23,
      "outputs": [
        {
          "output_type": "execute_result",
          "data": {
            "text/plain": [
              "count    59381.000000\n",
              "mean         2.673599\n",
              "std          0.739103\n",
              "min          1.000000\n",
              "25%          3.000000\n",
              "50%          3.000000\n",
              "75%          3.000000\n",
              "max          3.000000\n",
              "Name: Product_Info_6, dtype: float64"
            ]
          },
          "metadata": {},
          "execution_count": 23
        }
      ]
    },
    {
      "cell_type": "markdown",
      "source": [
        "This data looks normal, no large outliers. The only thing we need to change is that this data type is suppose to be an object since the data dictionary labels it as nominal categorical.\n",
        "\n"
      ],
      "metadata": {
        "id": "L-y4fqFoyNqV"
      }
    },
    {
      "cell_type": "code",
      "source": [
        "df['Product_Info_6'] = df['Product_Info_6'].astype(object)"
      ],
      "metadata": {
        "id": "eMbKzIOHQJuT"
      },
      "execution_count": 24,
      "outputs": []
    },
    {
      "cell_type": "code",
      "source": [
        "df['Product_Info_7'].describe()"
      ],
      "metadata": {
        "colab": {
          "base_uri": "https://localhost:8080/"
        },
        "id": "3cR1blD0yMRt",
        "outputId": "9c161b75-a62b-4631-c7ab-3bb3c265f5e0"
      },
      "execution_count": 25,
      "outputs": [
        {
          "output_type": "execute_result",
          "data": {
            "text/plain": [
              "count    59381.000000\n",
              "mean         1.043583\n",
              "std          0.291949\n",
              "min          1.000000\n",
              "25%          1.000000\n",
              "50%          1.000000\n",
              "75%          1.000000\n",
              "max          3.000000\n",
              "Name: Product_Info_7, dtype: float64"
            ]
          },
          "metadata": {},
          "execution_count": 25
        }
      ]
    },
    {
      "cell_type": "markdown",
      "source": [
        "This data looks normal, no large outliers. The only thing we need to change is that this data type is suppose to be an object since the data dictionary labels it as nominal categorical.\n",
        "\n"
      ],
      "metadata": {
        "id": "B04oWDHeySjF"
      }
    },
    {
      "cell_type": "code",
      "source": [
        "df['Product_Info_7'] = df['Product_Info_7'].astype(object)"
      ],
      "metadata": {
        "id": "0sYFvNtvQNY0"
      },
      "execution_count": 26,
      "outputs": []
    },
    {
      "cell_type": "code",
      "source": [
        "df['Ins_Age'].describe()"
      ],
      "metadata": {
        "colab": {
          "base_uri": "https://localhost:8080/"
        },
        "id": "PhKq6e8LyLtp",
        "outputId": "918892c2-49d8-4b2d-e3e2-5395d065cac9"
      },
      "execution_count": 27,
      "outputs": [
        {
          "output_type": "execute_result",
          "data": {
            "text/plain": [
              "count    59381.000000\n",
              "mean         0.405567\n",
              "std          0.197190\n",
              "min          0.000000\n",
              "25%          0.238806\n",
              "50%          0.402985\n",
              "75%          0.567164\n",
              "max          1.000000\n",
              "Name: Ins_Age, dtype: float64"
            ]
          },
          "metadata": {},
          "execution_count": 27
        }
      ]
    },
    {
      "cell_type": "markdown",
      "source": [
        "Since Ins_age from the data dictionary says that age is Normalized, it makes sense that the max age is 100. We will try to see where the 0 age is coming from, since we should be able to apply for insurance is a person is 0 years old. "
      ],
      "metadata": {
        "id": "Sk9jK6obykYK"
      }
    },
    {
      "cell_type": "code",
      "source": [
        "age_filter = df['Ins_Age'] <= 0\n",
        "df[age_filter]"
      ],
      "metadata": {
        "colab": {
          "base_uri": "https://localhost:8080/",
          "height": 488
        },
        "id": "O-vvDP4BzVBO",
        "outputId": "e85e9710-4af8-4e00-9c84-4c12b337b9f6"
      },
      "execution_count": 28,
      "outputs": [
        {
          "output_type": "execute_result",
          "data": {
            "text/plain": [
              "      Product_Info_1 Product_Info_2 Product_Info_3  Product_Info_4  \\\n",
              "197                1             D1             26        0.076923   \n",
              "431                1             A1             37        0.230769   \n",
              "502                1             A1             26        0.179487   \n",
              "558                1             E1             26        1.000000   \n",
              "576                1             D4             26        0.076923   \n",
              "...              ...            ...            ...             ...   \n",
              "58549              1             A1             31        0.076923   \n",
              "58617              1             A8             26        0.025641   \n",
              "58618              1             D4             26        0.076923   \n",
              "58836              2             E1             31        0.230769   \n",
              "58849              1             A7             15        0.000000   \n",
              "\n",
              "      Product_Info_5 Product_Info_6 Product_Info_7  Ins_Age        Ht  \\\n",
              "197                2              3              1      0.0  0.636364   \n",
              "431                2              3              1      0.0  0.636364   \n",
              "502                2              3              1      0.0  0.672727   \n",
              "558                2              3              1      0.0  0.600000   \n",
              "576                2              1              1      0.0  0.600000   \n",
              "...              ...            ...            ...      ...       ...   \n",
              "58549              2              3              1      0.0  0.727273   \n",
              "58617              2              3              1      0.0  0.781818   \n",
              "58618              2              3              1      0.0  0.636364   \n",
              "58836              2              3              1      0.0  0.727273   \n",
              "58849              2              3              1      0.0  0.618182   \n",
              "\n",
              "             Wt  ...  Employment_Info_6  InsuredInfo_1  Insurance_History_1  \\\n",
              "197    0.184100  ...             0.0000              1                    2   \n",
              "431    0.320084  ...                NaN              1                    2   \n",
              "502    0.299163  ...             0.0000              1                    2   \n",
              "558    0.165272  ...             0.0000              1                    2   \n",
              "576    0.257322  ...                NaN              1                    2   \n",
              "...         ...  ...                ...            ...                  ...   \n",
              "58549  0.205021  ...                NaN              1                    2   \n",
              "58617  0.267782  ...             0.0030              1                    2   \n",
              "58618  0.225941  ...             0.0005              1                    2   \n",
              "58836  0.267782  ...                NaN              1                    2   \n",
              "58849  0.184100  ...                NaN              1                    2   \n",
              "\n",
              "       Insurance_History_5  Family_Hist_1  Family_Hist_2  Family_Hist_4  \\\n",
              "197                    NaN              3       0.159420       0.112676   \n",
              "431                    NaN              2       0.130435            NaN   \n",
              "502                    NaN              2       0.173913       0.126761   \n",
              "558                    NaN              2       0.231884       0.211268   \n",
              "576                    NaN              3       0.130435       0.126761   \n",
              "...                    ...            ...            ...            ...   \n",
              "58549                  NaN              3       0.376812       0.239437   \n",
              "58617                  NaN              3            NaN       0.309859   \n",
              "58618             0.000013              3       0.246377       0.225352   \n",
              "58836                  NaN              3       0.275362       0.239437   \n",
              "58849                  NaN              2       0.188406       0.126761   \n",
              "\n",
              "       Medical_History_1  Medical_History_2  Response  \n",
              "197                 86.0                491         4  \n",
              "431                  9.0                261         7  \n",
              "502                 10.0                112         6  \n",
              "558                  2.0                491         8  \n",
              "576                  NaN                162         6  \n",
              "...                  ...                ...       ...  \n",
              "58549                2.0                261         8  \n",
              "58617                4.0                112         5  \n",
              "58618                1.0                 16         5  \n",
              "58836                NaN                162         6  \n",
              "58849                1.0                112         5  \n",
              "\n",
              "[287 rows x 22 columns]"
            ],
            "text/html": [
              "\n",
              "  <div id=\"df-8519f866-b2ba-4145-8280-211bc6936f38\">\n",
              "    <div class=\"colab-df-container\">\n",
              "      <div>\n",
              "<style scoped>\n",
              "    .dataframe tbody tr th:only-of-type {\n",
              "        vertical-align: middle;\n",
              "    }\n",
              "\n",
              "    .dataframe tbody tr th {\n",
              "        vertical-align: top;\n",
              "    }\n",
              "\n",
              "    .dataframe thead th {\n",
              "        text-align: right;\n",
              "    }\n",
              "</style>\n",
              "<table border=\"1\" class=\"dataframe\">\n",
              "  <thead>\n",
              "    <tr style=\"text-align: right;\">\n",
              "      <th></th>\n",
              "      <th>Product_Info_1</th>\n",
              "      <th>Product_Info_2</th>\n",
              "      <th>Product_Info_3</th>\n",
              "      <th>Product_Info_4</th>\n",
              "      <th>Product_Info_5</th>\n",
              "      <th>Product_Info_6</th>\n",
              "      <th>Product_Info_7</th>\n",
              "      <th>Ins_Age</th>\n",
              "      <th>Ht</th>\n",
              "      <th>Wt</th>\n",
              "      <th>...</th>\n",
              "      <th>Employment_Info_6</th>\n",
              "      <th>InsuredInfo_1</th>\n",
              "      <th>Insurance_History_1</th>\n",
              "      <th>Insurance_History_5</th>\n",
              "      <th>Family_Hist_1</th>\n",
              "      <th>Family_Hist_2</th>\n",
              "      <th>Family_Hist_4</th>\n",
              "      <th>Medical_History_1</th>\n",
              "      <th>Medical_History_2</th>\n",
              "      <th>Response</th>\n",
              "    </tr>\n",
              "  </thead>\n",
              "  <tbody>\n",
              "    <tr>\n",
              "      <th>197</th>\n",
              "      <td>1</td>\n",
              "      <td>D1</td>\n",
              "      <td>26</td>\n",
              "      <td>0.076923</td>\n",
              "      <td>2</td>\n",
              "      <td>3</td>\n",
              "      <td>1</td>\n",
              "      <td>0.0</td>\n",
              "      <td>0.636364</td>\n",
              "      <td>0.184100</td>\n",
              "      <td>...</td>\n",
              "      <td>0.0000</td>\n",
              "      <td>1</td>\n",
              "      <td>2</td>\n",
              "      <td>NaN</td>\n",
              "      <td>3</td>\n",
              "      <td>0.159420</td>\n",
              "      <td>0.112676</td>\n",
              "      <td>86.0</td>\n",
              "      <td>491</td>\n",
              "      <td>4</td>\n",
              "    </tr>\n",
              "    <tr>\n",
              "      <th>431</th>\n",
              "      <td>1</td>\n",
              "      <td>A1</td>\n",
              "      <td>37</td>\n",
              "      <td>0.230769</td>\n",
              "      <td>2</td>\n",
              "      <td>3</td>\n",
              "      <td>1</td>\n",
              "      <td>0.0</td>\n",
              "      <td>0.636364</td>\n",
              "      <td>0.320084</td>\n",
              "      <td>...</td>\n",
              "      <td>NaN</td>\n",
              "      <td>1</td>\n",
              "      <td>2</td>\n",
              "      <td>NaN</td>\n",
              "      <td>2</td>\n",
              "      <td>0.130435</td>\n",
              "      <td>NaN</td>\n",
              "      <td>9.0</td>\n",
              "      <td>261</td>\n",
              "      <td>7</td>\n",
              "    </tr>\n",
              "    <tr>\n",
              "      <th>502</th>\n",
              "      <td>1</td>\n",
              "      <td>A1</td>\n",
              "      <td>26</td>\n",
              "      <td>0.179487</td>\n",
              "      <td>2</td>\n",
              "      <td>3</td>\n",
              "      <td>1</td>\n",
              "      <td>0.0</td>\n",
              "      <td>0.672727</td>\n",
              "      <td>0.299163</td>\n",
              "      <td>...</td>\n",
              "      <td>0.0000</td>\n",
              "      <td>1</td>\n",
              "      <td>2</td>\n",
              "      <td>NaN</td>\n",
              "      <td>2</td>\n",
              "      <td>0.173913</td>\n",
              "      <td>0.126761</td>\n",
              "      <td>10.0</td>\n",
              "      <td>112</td>\n",
              "      <td>6</td>\n",
              "    </tr>\n",
              "    <tr>\n",
              "      <th>558</th>\n",
              "      <td>1</td>\n",
              "      <td>E1</td>\n",
              "      <td>26</td>\n",
              "      <td>1.000000</td>\n",
              "      <td>2</td>\n",
              "      <td>3</td>\n",
              "      <td>1</td>\n",
              "      <td>0.0</td>\n",
              "      <td>0.600000</td>\n",
              "      <td>0.165272</td>\n",
              "      <td>...</td>\n",
              "      <td>0.0000</td>\n",
              "      <td>1</td>\n",
              "      <td>2</td>\n",
              "      <td>NaN</td>\n",
              "      <td>2</td>\n",
              "      <td>0.231884</td>\n",
              "      <td>0.211268</td>\n",
              "      <td>2.0</td>\n",
              "      <td>491</td>\n",
              "      <td>8</td>\n",
              "    </tr>\n",
              "    <tr>\n",
              "      <th>576</th>\n",
              "      <td>1</td>\n",
              "      <td>D4</td>\n",
              "      <td>26</td>\n",
              "      <td>0.076923</td>\n",
              "      <td>2</td>\n",
              "      <td>1</td>\n",
              "      <td>1</td>\n",
              "      <td>0.0</td>\n",
              "      <td>0.600000</td>\n",
              "      <td>0.257322</td>\n",
              "      <td>...</td>\n",
              "      <td>NaN</td>\n",
              "      <td>1</td>\n",
              "      <td>2</td>\n",
              "      <td>NaN</td>\n",
              "      <td>3</td>\n",
              "      <td>0.130435</td>\n",
              "      <td>0.126761</td>\n",
              "      <td>NaN</td>\n",
              "      <td>162</td>\n",
              "      <td>6</td>\n",
              "    </tr>\n",
              "    <tr>\n",
              "      <th>...</th>\n",
              "      <td>...</td>\n",
              "      <td>...</td>\n",
              "      <td>...</td>\n",
              "      <td>...</td>\n",
              "      <td>...</td>\n",
              "      <td>...</td>\n",
              "      <td>...</td>\n",
              "      <td>...</td>\n",
              "      <td>...</td>\n",
              "      <td>...</td>\n",
              "      <td>...</td>\n",
              "      <td>...</td>\n",
              "      <td>...</td>\n",
              "      <td>...</td>\n",
              "      <td>...</td>\n",
              "      <td>...</td>\n",
              "      <td>...</td>\n",
              "      <td>...</td>\n",
              "      <td>...</td>\n",
              "      <td>...</td>\n",
              "      <td>...</td>\n",
              "    </tr>\n",
              "    <tr>\n",
              "      <th>58549</th>\n",
              "      <td>1</td>\n",
              "      <td>A1</td>\n",
              "      <td>31</td>\n",
              "      <td>0.076923</td>\n",
              "      <td>2</td>\n",
              "      <td>3</td>\n",
              "      <td>1</td>\n",
              "      <td>0.0</td>\n",
              "      <td>0.727273</td>\n",
              "      <td>0.205021</td>\n",
              "      <td>...</td>\n",
              "      <td>NaN</td>\n",
              "      <td>1</td>\n",
              "      <td>2</td>\n",
              "      <td>NaN</td>\n",
              "      <td>3</td>\n",
              "      <td>0.376812</td>\n",
              "      <td>0.239437</td>\n",
              "      <td>2.0</td>\n",
              "      <td>261</td>\n",
              "      <td>8</td>\n",
              "    </tr>\n",
              "    <tr>\n",
              "      <th>58617</th>\n",
              "      <td>1</td>\n",
              "      <td>A8</td>\n",
              "      <td>26</td>\n",
              "      <td>0.025641</td>\n",
              "      <td>2</td>\n",
              "      <td>3</td>\n",
              "      <td>1</td>\n",
              "      <td>0.0</td>\n",
              "      <td>0.781818</td>\n",
              "      <td>0.267782</td>\n",
              "      <td>...</td>\n",
              "      <td>0.0030</td>\n",
              "      <td>1</td>\n",
              "      <td>2</td>\n",
              "      <td>NaN</td>\n",
              "      <td>3</td>\n",
              "      <td>NaN</td>\n",
              "      <td>0.309859</td>\n",
              "      <td>4.0</td>\n",
              "      <td>112</td>\n",
              "      <td>5</td>\n",
              "    </tr>\n",
              "    <tr>\n",
              "      <th>58618</th>\n",
              "      <td>1</td>\n",
              "      <td>D4</td>\n",
              "      <td>26</td>\n",
              "      <td>0.076923</td>\n",
              "      <td>2</td>\n",
              "      <td>3</td>\n",
              "      <td>1</td>\n",
              "      <td>0.0</td>\n",
              "      <td>0.636364</td>\n",
              "      <td>0.225941</td>\n",
              "      <td>...</td>\n",
              "      <td>0.0005</td>\n",
              "      <td>1</td>\n",
              "      <td>2</td>\n",
              "      <td>0.000013</td>\n",
              "      <td>3</td>\n",
              "      <td>0.246377</td>\n",
              "      <td>0.225352</td>\n",
              "      <td>1.0</td>\n",
              "      <td>16</td>\n",
              "      <td>5</td>\n",
              "    </tr>\n",
              "    <tr>\n",
              "      <th>58836</th>\n",
              "      <td>2</td>\n",
              "      <td>E1</td>\n",
              "      <td>31</td>\n",
              "      <td>0.230769</td>\n",
              "      <td>2</td>\n",
              "      <td>3</td>\n",
              "      <td>1</td>\n",
              "      <td>0.0</td>\n",
              "      <td>0.727273</td>\n",
              "      <td>0.267782</td>\n",
              "      <td>...</td>\n",
              "      <td>NaN</td>\n",
              "      <td>1</td>\n",
              "      <td>2</td>\n",
              "      <td>NaN</td>\n",
              "      <td>3</td>\n",
              "      <td>0.275362</td>\n",
              "      <td>0.239437</td>\n",
              "      <td>NaN</td>\n",
              "      <td>162</td>\n",
              "      <td>6</td>\n",
              "    </tr>\n",
              "    <tr>\n",
              "      <th>58849</th>\n",
              "      <td>1</td>\n",
              "      <td>A7</td>\n",
              "      <td>15</td>\n",
              "      <td>0.000000</td>\n",
              "      <td>2</td>\n",
              "      <td>3</td>\n",
              "      <td>1</td>\n",
              "      <td>0.0</td>\n",
              "      <td>0.618182</td>\n",
              "      <td>0.184100</td>\n",
              "      <td>...</td>\n",
              "      <td>NaN</td>\n",
              "      <td>1</td>\n",
              "      <td>2</td>\n",
              "      <td>NaN</td>\n",
              "      <td>2</td>\n",
              "      <td>0.188406</td>\n",
              "      <td>0.126761</td>\n",
              "      <td>1.0</td>\n",
              "      <td>112</td>\n",
              "      <td>5</td>\n",
              "    </tr>\n",
              "  </tbody>\n",
              "</table>\n",
              "<p>287 rows × 22 columns</p>\n",
              "</div>\n",
              "      <button class=\"colab-df-convert\" onclick=\"convertToInteractive('df-8519f866-b2ba-4145-8280-211bc6936f38')\"\n",
              "              title=\"Convert this dataframe to an interactive table.\"\n",
              "              style=\"display:none;\">\n",
              "        \n",
              "  <svg xmlns=\"http://www.w3.org/2000/svg\" height=\"24px\"viewBox=\"0 0 24 24\"\n",
              "       width=\"24px\">\n",
              "    <path d=\"M0 0h24v24H0V0z\" fill=\"none\"/>\n",
              "    <path d=\"M18.56 5.44l.94 2.06.94-2.06 2.06-.94-2.06-.94-.94-2.06-.94 2.06-2.06.94zm-11 1L8.5 8.5l.94-2.06 2.06-.94-2.06-.94L8.5 2.5l-.94 2.06-2.06.94zm10 10l.94 2.06.94-2.06 2.06-.94-2.06-.94-.94-2.06-.94 2.06-2.06.94z\"/><path d=\"M17.41 7.96l-1.37-1.37c-.4-.4-.92-.59-1.43-.59-.52 0-1.04.2-1.43.59L10.3 9.45l-7.72 7.72c-.78.78-.78 2.05 0 2.83L4 21.41c.39.39.9.59 1.41.59.51 0 1.02-.2 1.41-.59l7.78-7.78 2.81-2.81c.8-.78.8-2.07 0-2.86zM5.41 20L4 18.59l7.72-7.72 1.47 1.35L5.41 20z\"/>\n",
              "  </svg>\n",
              "      </button>\n",
              "      \n",
              "  <style>\n",
              "    .colab-df-container {\n",
              "      display:flex;\n",
              "      flex-wrap:wrap;\n",
              "      gap: 12px;\n",
              "    }\n",
              "\n",
              "    .colab-df-convert {\n",
              "      background-color: #E8F0FE;\n",
              "      border: none;\n",
              "      border-radius: 50%;\n",
              "      cursor: pointer;\n",
              "      display: none;\n",
              "      fill: #1967D2;\n",
              "      height: 32px;\n",
              "      padding: 0 0 0 0;\n",
              "      width: 32px;\n",
              "    }\n",
              "\n",
              "    .colab-df-convert:hover {\n",
              "      background-color: #E2EBFA;\n",
              "      box-shadow: 0px 1px 2px rgba(60, 64, 67, 0.3), 0px 1px 3px 1px rgba(60, 64, 67, 0.15);\n",
              "      fill: #174EA6;\n",
              "    }\n",
              "\n",
              "    [theme=dark] .colab-df-convert {\n",
              "      background-color: #3B4455;\n",
              "      fill: #D2E3FC;\n",
              "    }\n",
              "\n",
              "    [theme=dark] .colab-df-convert:hover {\n",
              "      background-color: #434B5C;\n",
              "      box-shadow: 0px 1px 3px 1px rgba(0, 0, 0, 0.15);\n",
              "      filter: drop-shadow(0px 1px 2px rgba(0, 0, 0, 0.3));\n",
              "      fill: #FFFFFF;\n",
              "    }\n",
              "  </style>\n",
              "\n",
              "      <script>\n",
              "        const buttonEl =\n",
              "          document.querySelector('#df-8519f866-b2ba-4145-8280-211bc6936f38 button.colab-df-convert');\n",
              "        buttonEl.style.display =\n",
              "          google.colab.kernel.accessAllowed ? 'block' : 'none';\n",
              "\n",
              "        async function convertToInteractive(key) {\n",
              "          const element = document.querySelector('#df-8519f866-b2ba-4145-8280-211bc6936f38');\n",
              "          const dataTable =\n",
              "            await google.colab.kernel.invokeFunction('convertToInteractive',\n",
              "                                                     [key], {});\n",
              "          if (!dataTable) return;\n",
              "\n",
              "          const docLinkHtml = 'Like what you see? Visit the ' +\n",
              "            '<a target=\"_blank\" href=https://colab.research.google.com/notebooks/data_table.ipynb>data table notebook</a>'\n",
              "            + ' to learn more about interactive tables.';\n",
              "          element.innerHTML = '';\n",
              "          dataTable['output_type'] = 'display_data';\n",
              "          await google.colab.output.renderOutput(dataTable, element);\n",
              "          const docLink = document.createElement('div');\n",
              "          docLink.innerHTML = docLinkHtml;\n",
              "          element.appendChild(docLink);\n",
              "        }\n",
              "      </script>\n",
              "    </div>\n",
              "  </div>\n",
              "  "
            ]
          },
          "metadata": {},
          "execution_count": 28
        }
      ]
    },
    {
      "cell_type": "markdown",
      "source": [
        "We will drop these Age 0 applicants, even with age being normalized, 0 means an unborn person. "
      ],
      "metadata": {
        "id": "ot_ranKmz1hE"
      }
    },
    {
      "cell_type": "code",
      "source": [
        "# Indexes 'Ins_Age' that are less than or equal to 0. \n",
        "indexAge = df[df['Ins_Age'] <= 0].index"
      ],
      "metadata": {
        "id": "5el6u61y0XFA"
      },
      "execution_count": 29,
      "outputs": []
    },
    {
      "cell_type": "code",
      "source": [
        "# Dropping 'Ins_Age' that are equal to or less than 0.\n",
        "df.drop(indexAge, inplace =True)"
      ],
      "metadata": {
        "id": "ZMEn4kdlztNn"
      },
      "execution_count": 30,
      "outputs": []
    },
    {
      "cell_type": "code",
      "source": [
        "df.info()"
      ],
      "metadata": {
        "colab": {
          "base_uri": "https://localhost:8080/"
        },
        "id": "85GmeyIw0UHP",
        "outputId": "83665ff6-3670-4753-9c0b-e2322ac81c31"
      },
      "execution_count": 31,
      "outputs": [
        {
          "output_type": "stream",
          "name": "stdout",
          "text": [
            "<class 'pandas.core.frame.DataFrame'>\n",
            "Int64Index: 59094 entries, 0 to 59380\n",
            "Data columns (total 22 columns):\n",
            " #   Column               Non-Null Count  Dtype  \n",
            "---  ------               --------------  -----  \n",
            " 0   Product_Info_1       59094 non-null  object \n",
            " 1   Product_Info_2       59094 non-null  object \n",
            " 2   Product_Info_3       59094 non-null  object \n",
            " 3   Product_Info_4       59094 non-null  float64\n",
            " 4   Product_Info_5       59094 non-null  object \n",
            " 5   Product_Info_6       59094 non-null  object \n",
            " 6   Product_Info_7       59094 non-null  object \n",
            " 7   Ins_Age              59094 non-null  float64\n",
            " 8   Ht                   59094 non-null  float64\n",
            " 9   Wt                   59094 non-null  float64\n",
            " 10  BMI                  59094 non-null  float64\n",
            " 11  Employment_Info_4    52324 non-null  float64\n",
            " 12  Employment_Info_6    48359 non-null  float64\n",
            " 13  InsuredInfo_1        59094 non-null  int64  \n",
            " 14  Insurance_History_1  59094 non-null  int64  \n",
            " 15  Insurance_History_5  33938 non-null  float64\n",
            " 16  Family_Hist_1        59094 non-null  int64  \n",
            " 17  Family_Hist_2        30482 non-null  float64\n",
            " 18  Family_Hist_4        39926 non-null  float64\n",
            " 19  Medical_History_1    50260 non-null  float64\n",
            " 20  Medical_History_2    59094 non-null  int64  \n",
            " 21  Response             59094 non-null  int64  \n",
            "dtypes: float64(11), int64(5), object(6)\n",
            "memory usage: 10.4+ MB\n"
          ]
        }
      ]
    },
    {
      "cell_type": "markdown",
      "source": [
        "We see that the rows that have age at 0 or less have been dropped, hence the 59094 rows of data. "
      ],
      "metadata": {
        "id": "-TNtKrIP2C9W"
      }
    },
    {
      "cell_type": "code",
      "source": [
        "df['Ins_Age'].describe()"
      ],
      "metadata": {
        "colab": {
          "base_uri": "https://localhost:8080/"
        },
        "id": "4HBuY_66yjup",
        "outputId": "bab3dbd4-2461-4bfb-82de-f36849ca1b9f"
      },
      "execution_count": 32,
      "outputs": [
        {
          "output_type": "execute_result",
          "data": {
            "text/plain": [
              "count    59094.000000\n",
              "mean         0.407536\n",
              "std          0.195627\n",
              "min          0.014925\n",
              "25%          0.238806\n",
              "50%          0.402985\n",
              "75%          0.567164\n",
              "max          1.000000\n",
              "Name: Ins_Age, dtype: float64"
            ]
          },
          "metadata": {},
          "execution_count": 32
        }
      ]
    },
    {
      "cell_type": "markdown",
      "source": [
        "We now see that the min Ins_age is at 0.014925. "
      ],
      "metadata": {
        "id": "gXQr2V0-2PWq"
      }
    },
    {
      "cell_type": "code",
      "source": [
        "df['Ht'].describe()"
      ],
      "metadata": {
        "colab": {
          "base_uri": "https://localhost:8080/"
        },
        "id": "eQBXWehI2O_7",
        "outputId": "e7b2ac84-f171-4ef4-d595-11f57b06d335"
      },
      "execution_count": 33,
      "outputs": [
        {
          "output_type": "execute_result",
          "data": {
            "text/plain": [
              "count    59094.000000\n",
              "mean         0.707344\n",
              "std          0.074233\n",
              "min          0.000000\n",
              "25%          0.654545\n",
              "50%          0.709091\n",
              "75%          0.763636\n",
              "max          1.000000\n",
              "Name: Ht, dtype: float64"
            ]
          },
          "metadata": {},
          "execution_count": 33
        }
      ]
    },
    {
      "cell_type": "markdown",
      "source": [
        "Like the Ins_Age, 'Ht' is normalized, but the 0 min height still makes no sense, we will drop that too. "
      ],
      "metadata": {
        "id": "LEZDYS-22gKG"
      }
    },
    {
      "cell_type": "code",
      "source": [
        "height_filter = df['Ht'] <= 0\n",
        "df[height_filter]"
      ],
      "metadata": {
        "colab": {
          "base_uri": "https://localhost:8080/",
          "height": 174
        },
        "id": "NeTa1EpS2fjK",
        "outputId": "60236474-64fb-4bcd-94be-1bba067f9b4f"
      },
      "execution_count": 34,
      "outputs": [
        {
          "output_type": "execute_result",
          "data": {
            "text/plain": [
              "      Product_Info_1 Product_Info_2 Product_Info_3  Product_Info_4  \\\n",
              "36117              1             D2             26        0.179487   \n",
              "\n",
              "      Product_Info_5 Product_Info_6 Product_Info_7  Ins_Age   Ht        Wt  \\\n",
              "36117              2              1              1  0.58209  0.0  0.372385   \n",
              "\n",
              "       ...  Employment_Info_6  InsuredInfo_1  Insurance_History_1  \\\n",
              "36117  ...                1.0              1                    2   \n",
              "\n",
              "       Insurance_History_5  Family_Hist_1  Family_Hist_2  Family_Hist_4  \\\n",
              "36117             0.001667              2            NaN            NaN   \n",
              "\n",
              "       Medical_History_1  Medical_History_2  Response  \n",
              "36117                4.0                  3         2  \n",
              "\n",
              "[1 rows x 22 columns]"
            ],
            "text/html": [
              "\n",
              "  <div id=\"df-1f20b8f2-5344-4373-b3e4-57f57d29a290\">\n",
              "    <div class=\"colab-df-container\">\n",
              "      <div>\n",
              "<style scoped>\n",
              "    .dataframe tbody tr th:only-of-type {\n",
              "        vertical-align: middle;\n",
              "    }\n",
              "\n",
              "    .dataframe tbody tr th {\n",
              "        vertical-align: top;\n",
              "    }\n",
              "\n",
              "    .dataframe thead th {\n",
              "        text-align: right;\n",
              "    }\n",
              "</style>\n",
              "<table border=\"1\" class=\"dataframe\">\n",
              "  <thead>\n",
              "    <tr style=\"text-align: right;\">\n",
              "      <th></th>\n",
              "      <th>Product_Info_1</th>\n",
              "      <th>Product_Info_2</th>\n",
              "      <th>Product_Info_3</th>\n",
              "      <th>Product_Info_4</th>\n",
              "      <th>Product_Info_5</th>\n",
              "      <th>Product_Info_6</th>\n",
              "      <th>Product_Info_7</th>\n",
              "      <th>Ins_Age</th>\n",
              "      <th>Ht</th>\n",
              "      <th>Wt</th>\n",
              "      <th>...</th>\n",
              "      <th>Employment_Info_6</th>\n",
              "      <th>InsuredInfo_1</th>\n",
              "      <th>Insurance_History_1</th>\n",
              "      <th>Insurance_History_5</th>\n",
              "      <th>Family_Hist_1</th>\n",
              "      <th>Family_Hist_2</th>\n",
              "      <th>Family_Hist_4</th>\n",
              "      <th>Medical_History_1</th>\n",
              "      <th>Medical_History_2</th>\n",
              "      <th>Response</th>\n",
              "    </tr>\n",
              "  </thead>\n",
              "  <tbody>\n",
              "    <tr>\n",
              "      <th>36117</th>\n",
              "      <td>1</td>\n",
              "      <td>D2</td>\n",
              "      <td>26</td>\n",
              "      <td>0.179487</td>\n",
              "      <td>2</td>\n",
              "      <td>1</td>\n",
              "      <td>1</td>\n",
              "      <td>0.58209</td>\n",
              "      <td>0.0</td>\n",
              "      <td>0.372385</td>\n",
              "      <td>...</td>\n",
              "      <td>1.0</td>\n",
              "      <td>1</td>\n",
              "      <td>2</td>\n",
              "      <td>0.001667</td>\n",
              "      <td>2</td>\n",
              "      <td>NaN</td>\n",
              "      <td>NaN</td>\n",
              "      <td>4.0</td>\n",
              "      <td>3</td>\n",
              "      <td>2</td>\n",
              "    </tr>\n",
              "  </tbody>\n",
              "</table>\n",
              "<p>1 rows × 22 columns</p>\n",
              "</div>\n",
              "      <button class=\"colab-df-convert\" onclick=\"convertToInteractive('df-1f20b8f2-5344-4373-b3e4-57f57d29a290')\"\n",
              "              title=\"Convert this dataframe to an interactive table.\"\n",
              "              style=\"display:none;\">\n",
              "        \n",
              "  <svg xmlns=\"http://www.w3.org/2000/svg\" height=\"24px\"viewBox=\"0 0 24 24\"\n",
              "       width=\"24px\">\n",
              "    <path d=\"M0 0h24v24H0V0z\" fill=\"none\"/>\n",
              "    <path d=\"M18.56 5.44l.94 2.06.94-2.06 2.06-.94-2.06-.94-.94-2.06-.94 2.06-2.06.94zm-11 1L8.5 8.5l.94-2.06 2.06-.94-2.06-.94L8.5 2.5l-.94 2.06-2.06.94zm10 10l.94 2.06.94-2.06 2.06-.94-2.06-.94-.94-2.06-.94 2.06-2.06.94z\"/><path d=\"M17.41 7.96l-1.37-1.37c-.4-.4-.92-.59-1.43-.59-.52 0-1.04.2-1.43.59L10.3 9.45l-7.72 7.72c-.78.78-.78 2.05 0 2.83L4 21.41c.39.39.9.59 1.41.59.51 0 1.02-.2 1.41-.59l7.78-7.78 2.81-2.81c.8-.78.8-2.07 0-2.86zM5.41 20L4 18.59l7.72-7.72 1.47 1.35L5.41 20z\"/>\n",
              "  </svg>\n",
              "      </button>\n",
              "      \n",
              "  <style>\n",
              "    .colab-df-container {\n",
              "      display:flex;\n",
              "      flex-wrap:wrap;\n",
              "      gap: 12px;\n",
              "    }\n",
              "\n",
              "    .colab-df-convert {\n",
              "      background-color: #E8F0FE;\n",
              "      border: none;\n",
              "      border-radius: 50%;\n",
              "      cursor: pointer;\n",
              "      display: none;\n",
              "      fill: #1967D2;\n",
              "      height: 32px;\n",
              "      padding: 0 0 0 0;\n",
              "      width: 32px;\n",
              "    }\n",
              "\n",
              "    .colab-df-convert:hover {\n",
              "      background-color: #E2EBFA;\n",
              "      box-shadow: 0px 1px 2px rgba(60, 64, 67, 0.3), 0px 1px 3px 1px rgba(60, 64, 67, 0.15);\n",
              "      fill: #174EA6;\n",
              "    }\n",
              "\n",
              "    [theme=dark] .colab-df-convert {\n",
              "      background-color: #3B4455;\n",
              "      fill: #D2E3FC;\n",
              "    }\n",
              "\n",
              "    [theme=dark] .colab-df-convert:hover {\n",
              "      background-color: #434B5C;\n",
              "      box-shadow: 0px 1px 3px 1px rgba(0, 0, 0, 0.15);\n",
              "      filter: drop-shadow(0px 1px 2px rgba(0, 0, 0, 0.3));\n",
              "      fill: #FFFFFF;\n",
              "    }\n",
              "  </style>\n",
              "\n",
              "      <script>\n",
              "        const buttonEl =\n",
              "          document.querySelector('#df-1f20b8f2-5344-4373-b3e4-57f57d29a290 button.colab-df-convert');\n",
              "        buttonEl.style.display =\n",
              "          google.colab.kernel.accessAllowed ? 'block' : 'none';\n",
              "\n",
              "        async function convertToInteractive(key) {\n",
              "          const element = document.querySelector('#df-1f20b8f2-5344-4373-b3e4-57f57d29a290');\n",
              "          const dataTable =\n",
              "            await google.colab.kernel.invokeFunction('convertToInteractive',\n",
              "                                                     [key], {});\n",
              "          if (!dataTable) return;\n",
              "\n",
              "          const docLinkHtml = 'Like what you see? Visit the ' +\n",
              "            '<a target=\"_blank\" href=https://colab.research.google.com/notebooks/data_table.ipynb>data table notebook</a>'\n",
              "            + ' to learn more about interactive tables.';\n",
              "          element.innerHTML = '';\n",
              "          dataTable['output_type'] = 'display_data';\n",
              "          await google.colab.output.renderOutput(dataTable, element);\n",
              "          const docLink = document.createElement('div');\n",
              "          docLink.innerHTML = docLinkHtml;\n",
              "          element.appendChild(docLink);\n",
              "        }\n",
              "      </script>\n",
              "    </div>\n",
              "  </div>\n",
              "  "
            ]
          },
          "metadata": {},
          "execution_count": 34
        }
      ]
    },
    {
      "cell_type": "code",
      "source": [
        "# Indexes 'Ht' that are less than or equal to 0. \n",
        "indexHeight = df[df['Ht'] <= 0].index"
      ],
      "metadata": {
        "id": "AuqJtGmt2eL9"
      },
      "execution_count": 35,
      "outputs": []
    },
    {
      "cell_type": "code",
      "source": [
        "# Dropping 'Ht' that are equal to or less than 0.\n",
        "df.drop(indexHeight, inplace =True)"
      ],
      "metadata": {
        "id": "T4sneYh122ml"
      },
      "execution_count": 36,
      "outputs": []
    },
    {
      "cell_type": "code",
      "source": [
        "df.info()"
      ],
      "metadata": {
        "colab": {
          "base_uri": "https://localhost:8080/"
        },
        "id": "NeZeXV_N3BWU",
        "outputId": "f98eadfa-13d8-49c2-d6ce-47c7e5802377"
      },
      "execution_count": 37,
      "outputs": [
        {
          "output_type": "stream",
          "name": "stdout",
          "text": [
            "<class 'pandas.core.frame.DataFrame'>\n",
            "Int64Index: 59093 entries, 0 to 59380\n",
            "Data columns (total 22 columns):\n",
            " #   Column               Non-Null Count  Dtype  \n",
            "---  ------               --------------  -----  \n",
            " 0   Product_Info_1       59093 non-null  object \n",
            " 1   Product_Info_2       59093 non-null  object \n",
            " 2   Product_Info_3       59093 non-null  object \n",
            " 3   Product_Info_4       59093 non-null  float64\n",
            " 4   Product_Info_5       59093 non-null  object \n",
            " 5   Product_Info_6       59093 non-null  object \n",
            " 6   Product_Info_7       59093 non-null  object \n",
            " 7   Ins_Age              59093 non-null  float64\n",
            " 8   Ht                   59093 non-null  float64\n",
            " 9   Wt                   59093 non-null  float64\n",
            " 10  BMI                  59093 non-null  float64\n",
            " 11  Employment_Info_4    52323 non-null  float64\n",
            " 12  Employment_Info_6    48358 non-null  float64\n",
            " 13  InsuredInfo_1        59093 non-null  int64  \n",
            " 14  Insurance_History_1  59093 non-null  int64  \n",
            " 15  Insurance_History_5  33937 non-null  float64\n",
            " 16  Family_Hist_1        59093 non-null  int64  \n",
            " 17  Family_Hist_2        30482 non-null  float64\n",
            " 18  Family_Hist_4        39926 non-null  float64\n",
            " 19  Medical_History_1    50259 non-null  float64\n",
            " 20  Medical_History_2    59093 non-null  int64  \n",
            " 21  Response             59093 non-null  int64  \n",
            "dtypes: float64(11), int64(5), object(6)\n",
            "memory usage: 10.4+ MB\n"
          ]
        }
      ]
    },
    {
      "cell_type": "markdown",
      "source": [
        "We see that there is one less row, so we removed the data that has a height of 0."
      ],
      "metadata": {
        "id": "jrbJp5D93Dy7"
      }
    },
    {
      "cell_type": "code",
      "source": [
        "df['Ht'].describe()"
      ],
      "metadata": {
        "colab": {
          "base_uri": "https://localhost:8080/"
        },
        "id": "ctyUQapK3DN-",
        "outputId": "d8ccb2f8-a0d7-4176-d17e-f2c0c3a4dcfd"
      },
      "execution_count": 38,
      "outputs": [
        {
          "output_type": "execute_result",
          "data": {
            "text/plain": [
              "count    59093.000000\n",
              "mean         0.707356\n",
              "std          0.074177\n",
              "min          0.090909\n",
              "25%          0.654545\n",
              "50%          0.709091\n",
              "75%          0.763636\n",
              "max          1.000000\n",
              "Name: Ht, dtype: float64"
            ]
          },
          "metadata": {},
          "execution_count": 38
        }
      ]
    },
    {
      "cell_type": "markdown",
      "source": [
        "The min hieght is no longer 0. "
      ],
      "metadata": {
        "id": "S_VkEn0T3x1P"
      }
    },
    {
      "cell_type": "code",
      "source": [
        "df['Wt'].describe()"
      ],
      "metadata": {
        "colab": {
          "base_uri": "https://localhost:8080/"
        },
        "id": "Fbk9N5Dd3xW1",
        "outputId": "42392e17-f2c2-4edf-c1eb-58c36a18e03f"
      },
      "execution_count": 39,
      "outputs": [
        {
          "output_type": "execute_result",
          "data": {
            "text/plain": [
              "count    59093.000000\n",
              "mean         0.292816\n",
              "std          0.089011\n",
              "min          0.000000\n",
              "25%          0.225941\n",
              "50%          0.288703\n",
              "75%          0.347280\n",
              "max          1.000000\n",
              "Name: Wt, dtype: float64"
            ]
          },
          "metadata": {},
          "execution_count": 39
        }
      ]
    },
    {
      "cell_type": "markdown",
      "source": [
        "Like the Ht, 'Wt' is normalized, but the 0 min weight still makes no sense, we will drop that too. "
      ],
      "metadata": {
        "id": "hBSOGViY35XL"
      }
    },
    {
      "cell_type": "code",
      "source": [
        "weight_filter = df['Wt'] <= 0\n",
        "df[weight_filter]"
      ],
      "metadata": {
        "colab": {
          "base_uri": "https://localhost:8080/",
          "height": 174
        },
        "id": "i22E-43-4Mrz",
        "outputId": "262927c5-0945-4d56-89b7-6075e6aea625"
      },
      "execution_count": 40,
      "outputs": [
        {
          "output_type": "execute_result",
          "data": {
            "text/plain": [
              "      Product_Info_1 Product_Info_2 Product_Info_3  Product_Info_4  \\\n",
              "14351              1             E1             37        0.230769   \n",
              "\n",
              "      Product_Info_5 Product_Info_6 Product_Info_7   Ins_Age   Ht   Wt  ...  \\\n",
              "14351              2              3              1  0.104478  0.6  0.0  ...   \n",
              "\n",
              "       Employment_Info_6  InsuredInfo_1  Insurance_History_1  \\\n",
              "14351                0.0              3                    2   \n",
              "\n",
              "       Insurance_History_5  Family_Hist_1  Family_Hist_2  Family_Hist_4  \\\n",
              "14351                  NaN              3       0.289855       0.183099   \n",
              "\n",
              "       Medical_History_1  Medical_History_2  Response  \n",
              "14351                NaN                162         8  \n",
              "\n",
              "[1 rows x 22 columns]"
            ],
            "text/html": [
              "\n",
              "  <div id=\"df-c874b1cd-6407-4c43-957b-5aebf02ffca8\">\n",
              "    <div class=\"colab-df-container\">\n",
              "      <div>\n",
              "<style scoped>\n",
              "    .dataframe tbody tr th:only-of-type {\n",
              "        vertical-align: middle;\n",
              "    }\n",
              "\n",
              "    .dataframe tbody tr th {\n",
              "        vertical-align: top;\n",
              "    }\n",
              "\n",
              "    .dataframe thead th {\n",
              "        text-align: right;\n",
              "    }\n",
              "</style>\n",
              "<table border=\"1\" class=\"dataframe\">\n",
              "  <thead>\n",
              "    <tr style=\"text-align: right;\">\n",
              "      <th></th>\n",
              "      <th>Product_Info_1</th>\n",
              "      <th>Product_Info_2</th>\n",
              "      <th>Product_Info_3</th>\n",
              "      <th>Product_Info_4</th>\n",
              "      <th>Product_Info_5</th>\n",
              "      <th>Product_Info_6</th>\n",
              "      <th>Product_Info_7</th>\n",
              "      <th>Ins_Age</th>\n",
              "      <th>Ht</th>\n",
              "      <th>Wt</th>\n",
              "      <th>...</th>\n",
              "      <th>Employment_Info_6</th>\n",
              "      <th>InsuredInfo_1</th>\n",
              "      <th>Insurance_History_1</th>\n",
              "      <th>Insurance_History_5</th>\n",
              "      <th>Family_Hist_1</th>\n",
              "      <th>Family_Hist_2</th>\n",
              "      <th>Family_Hist_4</th>\n",
              "      <th>Medical_History_1</th>\n",
              "      <th>Medical_History_2</th>\n",
              "      <th>Response</th>\n",
              "    </tr>\n",
              "  </thead>\n",
              "  <tbody>\n",
              "    <tr>\n",
              "      <th>14351</th>\n",
              "      <td>1</td>\n",
              "      <td>E1</td>\n",
              "      <td>37</td>\n",
              "      <td>0.230769</td>\n",
              "      <td>2</td>\n",
              "      <td>3</td>\n",
              "      <td>1</td>\n",
              "      <td>0.104478</td>\n",
              "      <td>0.6</td>\n",
              "      <td>0.0</td>\n",
              "      <td>...</td>\n",
              "      <td>0.0</td>\n",
              "      <td>3</td>\n",
              "      <td>2</td>\n",
              "      <td>NaN</td>\n",
              "      <td>3</td>\n",
              "      <td>0.289855</td>\n",
              "      <td>0.183099</td>\n",
              "      <td>NaN</td>\n",
              "      <td>162</td>\n",
              "      <td>8</td>\n",
              "    </tr>\n",
              "  </tbody>\n",
              "</table>\n",
              "<p>1 rows × 22 columns</p>\n",
              "</div>\n",
              "      <button class=\"colab-df-convert\" onclick=\"convertToInteractive('df-c874b1cd-6407-4c43-957b-5aebf02ffca8')\"\n",
              "              title=\"Convert this dataframe to an interactive table.\"\n",
              "              style=\"display:none;\">\n",
              "        \n",
              "  <svg xmlns=\"http://www.w3.org/2000/svg\" height=\"24px\"viewBox=\"0 0 24 24\"\n",
              "       width=\"24px\">\n",
              "    <path d=\"M0 0h24v24H0V0z\" fill=\"none\"/>\n",
              "    <path d=\"M18.56 5.44l.94 2.06.94-2.06 2.06-.94-2.06-.94-.94-2.06-.94 2.06-2.06.94zm-11 1L8.5 8.5l.94-2.06 2.06-.94-2.06-.94L8.5 2.5l-.94 2.06-2.06.94zm10 10l.94 2.06.94-2.06 2.06-.94-2.06-.94-.94-2.06-.94 2.06-2.06.94z\"/><path d=\"M17.41 7.96l-1.37-1.37c-.4-.4-.92-.59-1.43-.59-.52 0-1.04.2-1.43.59L10.3 9.45l-7.72 7.72c-.78.78-.78 2.05 0 2.83L4 21.41c.39.39.9.59 1.41.59.51 0 1.02-.2 1.41-.59l7.78-7.78 2.81-2.81c.8-.78.8-2.07 0-2.86zM5.41 20L4 18.59l7.72-7.72 1.47 1.35L5.41 20z\"/>\n",
              "  </svg>\n",
              "      </button>\n",
              "      \n",
              "  <style>\n",
              "    .colab-df-container {\n",
              "      display:flex;\n",
              "      flex-wrap:wrap;\n",
              "      gap: 12px;\n",
              "    }\n",
              "\n",
              "    .colab-df-convert {\n",
              "      background-color: #E8F0FE;\n",
              "      border: none;\n",
              "      border-radius: 50%;\n",
              "      cursor: pointer;\n",
              "      display: none;\n",
              "      fill: #1967D2;\n",
              "      height: 32px;\n",
              "      padding: 0 0 0 0;\n",
              "      width: 32px;\n",
              "    }\n",
              "\n",
              "    .colab-df-convert:hover {\n",
              "      background-color: #E2EBFA;\n",
              "      box-shadow: 0px 1px 2px rgba(60, 64, 67, 0.3), 0px 1px 3px 1px rgba(60, 64, 67, 0.15);\n",
              "      fill: #174EA6;\n",
              "    }\n",
              "\n",
              "    [theme=dark] .colab-df-convert {\n",
              "      background-color: #3B4455;\n",
              "      fill: #D2E3FC;\n",
              "    }\n",
              "\n",
              "    [theme=dark] .colab-df-convert:hover {\n",
              "      background-color: #434B5C;\n",
              "      box-shadow: 0px 1px 3px 1px rgba(0, 0, 0, 0.15);\n",
              "      filter: drop-shadow(0px 1px 2px rgba(0, 0, 0, 0.3));\n",
              "      fill: #FFFFFF;\n",
              "    }\n",
              "  </style>\n",
              "\n",
              "      <script>\n",
              "        const buttonEl =\n",
              "          document.querySelector('#df-c874b1cd-6407-4c43-957b-5aebf02ffca8 button.colab-df-convert');\n",
              "        buttonEl.style.display =\n",
              "          google.colab.kernel.accessAllowed ? 'block' : 'none';\n",
              "\n",
              "        async function convertToInteractive(key) {\n",
              "          const element = document.querySelector('#df-c874b1cd-6407-4c43-957b-5aebf02ffca8');\n",
              "          const dataTable =\n",
              "            await google.colab.kernel.invokeFunction('convertToInteractive',\n",
              "                                                     [key], {});\n",
              "          if (!dataTable) return;\n",
              "\n",
              "          const docLinkHtml = 'Like what you see? Visit the ' +\n",
              "            '<a target=\"_blank\" href=https://colab.research.google.com/notebooks/data_table.ipynb>data table notebook</a>'\n",
              "            + ' to learn more about interactive tables.';\n",
              "          element.innerHTML = '';\n",
              "          dataTable['output_type'] = 'display_data';\n",
              "          await google.colab.output.renderOutput(dataTable, element);\n",
              "          const docLink = document.createElement('div');\n",
              "          docLink.innerHTML = docLinkHtml;\n",
              "          element.appendChild(docLink);\n",
              "        }\n",
              "      </script>\n",
              "    </div>\n",
              "  </div>\n",
              "  "
            ]
          },
          "metadata": {},
          "execution_count": 40
        }
      ]
    },
    {
      "cell_type": "code",
      "source": [
        "# Indexes 'Wt' that are less than or equal to 0. \n",
        "indexWeight = df[df['Wt'] <= 0].index"
      ],
      "metadata": {
        "id": "0xYjLuGs34sJ"
      },
      "execution_count": 41,
      "outputs": []
    },
    {
      "cell_type": "code",
      "source": [
        "# Dropping 'Wt' that are equal to or less than 0.\n",
        "df.drop(indexWeight, inplace =True)"
      ],
      "metadata": {
        "id": "_11Lczle3CKr"
      },
      "execution_count": 42,
      "outputs": []
    },
    {
      "cell_type": "code",
      "source": [
        "df['Wt'].describe()"
      ],
      "metadata": {
        "colab": {
          "base_uri": "https://localhost:8080/"
        },
        "id": "kUvQiJOx4btD",
        "outputId": "272c60af-777f-44a5-b49c-d9c7001d2081"
      },
      "execution_count": 43,
      "outputs": [
        {
          "output_type": "execute_result",
          "data": {
            "text/plain": [
              "count    59092.000000\n",
              "mean         0.292821\n",
              "std          0.089003\n",
              "min          0.058577\n",
              "25%          0.225941\n",
              "50%          0.288703\n",
              "75%          0.347280\n",
              "max          1.000000\n",
              "Name: Wt, dtype: float64"
            ]
          },
          "metadata": {},
          "execution_count": 43
        }
      ]
    },
    {
      "cell_type": "markdown",
      "source": [
        "We see that there is one less row, so we removed the data that has a height of 0. We also see that the min is no longer 0. "
      ],
      "metadata": {
        "id": "P-hw0QtS4fxL"
      }
    },
    {
      "cell_type": "code",
      "source": [
        "df['BMI'].describe()"
      ],
      "metadata": {
        "colab": {
          "base_uri": "https://localhost:8080/"
        },
        "id": "krUip-J14217",
        "outputId": "e635eea9-143b-40a0-ff66-220fd5dcd11d"
      },
      "execution_count": 44,
      "outputs": [
        {
          "output_type": "execute_result",
          "data": {
            "text/plain": [
              "count    59092.000000\n",
              "mean         0.469801\n",
              "std          0.122129\n",
              "min          0.058838\n",
              "25%          0.386163\n",
              "50%          0.452515\n",
              "75%          0.533020\n",
              "max          1.000000\n",
              "Name: BMI, dtype: float64"
            ]
          },
          "metadata": {},
          "execution_count": 44
        }
      ]
    },
    {
      "cell_type": "markdown",
      "source": [
        "'BMI' all looks normal, no outliers, once again the BMI is normalized. "
      ],
      "metadata": {
        "id": "-pyKK6Ed48O4"
      }
    },
    {
      "cell_type": "code",
      "source": [
        "df['Employment_Info_4'].describe()"
      ],
      "metadata": {
        "colab": {
          "base_uri": "https://localhost:8080/"
        },
        "id": "517jrYod47x4",
        "outputId": "d65ae684-4968-44f8-fe33-616db7bc12d5"
      },
      "execution_count": 45,
      "outputs": [
        {
          "output_type": "execute_result",
          "data": {
            "text/plain": [
              "count    52322.000000\n",
              "mean         0.006311\n",
              "std          0.032897\n",
              "min          0.000000\n",
              "25%          0.000000\n",
              "50%          0.000000\n",
              "75%          0.000000\n",
              "max          1.000000\n",
              "Name: Employment_Info_4, dtype: float64"
            ]
          },
          "metadata": {},
          "execution_count": 45
        }
      ]
    },
    {
      "cell_type": "markdown",
      "source": [
        "Without much context on what these values mean,this data looks normal, no inconsistencies. "
      ],
      "metadata": {
        "id": "C_bbVS5d5eG5"
      }
    },
    {
      "cell_type": "code",
      "source": [
        "df['Employment_Info_6'].describe()"
      ],
      "metadata": {
        "colab": {
          "base_uri": "https://localhost:8080/"
        },
        "id": "ZOnDenCB5kpm",
        "outputId": "350ba607-43fd-4597-b264-dc55562b7830"
      },
      "execution_count": 46,
      "outputs": [
        {
          "output_type": "execute_result",
          "data": {
            "text/plain": [
              "count    48357.000000\n",
              "mean         0.362651\n",
              "std          0.349525\n",
              "min          0.000000\n",
              "25%          0.060000\n",
              "50%          0.250000\n",
              "75%          0.550000\n",
              "max          1.000000\n",
              "Name: Employment_Info_6, dtype: float64"
            ]
          },
          "metadata": {},
          "execution_count": 46
        }
      ]
    },
    {
      "cell_type": "markdown",
      "source": [
        "Without much context on what these values mean,this data looks normal, no inconsistencies. \n",
        "\n"
      ],
      "metadata": {
        "id": "JCBf2OWRRDvC"
      }
    },
    {
      "cell_type": "code",
      "source": [
        "df['InsuredInfo_1'].describe()"
      ],
      "metadata": {
        "colab": {
          "base_uri": "https://localhost:8080/"
        },
        "id": "Z90Wee1l5mpH",
        "outputId": "84081193-e891-428e-a0c0-6154b1ef684e"
      },
      "execution_count": 47,
      "outputs": [
        {
          "output_type": "execute_result",
          "data": {
            "text/plain": [
              "count    59092.000000\n",
              "mean         1.209758\n",
              "std          0.418090\n",
              "min          1.000000\n",
              "25%          1.000000\n",
              "50%          1.000000\n",
              "75%          1.000000\n",
              "max          3.000000\n",
              "Name: InsuredInfo_1, dtype: float64"
            ]
          },
          "metadata": {},
          "execution_count": 47
        }
      ]
    },
    {
      "cell_type": "markdown",
      "source": [
        "This data looks normal, no large outliers. The only thing we need to change is that this data type is suppose to be an object since the data dictionary labels it as nominal categorical."
      ],
      "metadata": {
        "id": "0ufYKwHnRO58"
      }
    },
    {
      "cell_type": "code",
      "source": [
        "df['InsuredInfo_1'] = df['InsuredInfo_1'].astype(object)"
      ],
      "metadata": {
        "id": "inDEnrHyRS_3"
      },
      "execution_count": 48,
      "outputs": []
    },
    {
      "cell_type": "code",
      "source": [
        "df['Insurance_History_1'].describe()"
      ],
      "metadata": {
        "colab": {
          "base_uri": "https://localhost:8080/"
        },
        "id": "fKQUtzLKRZ7v",
        "outputId": "dd7bf3b8-81b9-44ff-bea3-78b93c7909f9"
      },
      "execution_count": 49,
      "outputs": [
        {
          "output_type": "execute_result",
          "data": {
            "text/plain": [
              "count    59092.000000\n",
              "mean         1.726664\n",
              "std          0.445676\n",
              "min          1.000000\n",
              "25%          1.000000\n",
              "50%          2.000000\n",
              "75%          2.000000\n",
              "max          2.000000\n",
              "Name: Insurance_History_1, dtype: float64"
            ]
          },
          "metadata": {},
          "execution_count": 49
        }
      ]
    },
    {
      "cell_type": "markdown",
      "source": [
        "This data looks normal, no large outliers. The only thing we need to change is that this data type is suppose to be an object since the data dictionary labels it as nominal categorical."
      ],
      "metadata": {
        "id": "dkoP4x2rRl0w"
      }
    },
    {
      "cell_type": "code",
      "source": [
        "df['Insurance_History_1'] = df['Insurance_History_1'].astype(object)"
      ],
      "metadata": {
        "id": "H_BMuE0rRkC5"
      },
      "execution_count": 50,
      "outputs": []
    },
    {
      "cell_type": "code",
      "source": [
        "df['Insurance_History_5'].describe()"
      ],
      "metadata": {
        "colab": {
          "base_uri": "https://localhost:8080/"
        },
        "id": "jL2CgtRARuko",
        "outputId": "3339d4f2-8975-4484-bcd7-b867123ffac6"
      },
      "execution_count": 51,
      "outputs": [
        {
          "output_type": "execute_result",
          "data": {
            "text/plain": [
              "count    33937.000000\n",
              "mean         0.001735\n",
              "std          0.007343\n",
              "min          0.000000\n",
              "25%          0.000400\n",
              "50%          0.000993\n",
              "75%          0.002000\n",
              "max          1.000000\n",
              "Name: Insurance_History_5, dtype: float64"
            ]
          },
          "metadata": {},
          "execution_count": 51
        }
      ]
    },
    {
      "cell_type": "markdown",
      "source": [
        "Without much context on what these values mean,this data looks normal, no inconsistencies. "
      ],
      "metadata": {
        "id": "uhLOGmVyRzqD"
      }
    },
    {
      "cell_type": "code",
      "source": [
        "df['Family_Hist_1'].describe()"
      ],
      "metadata": {
        "colab": {
          "base_uri": "https://localhost:8080/"
        },
        "id": "Z8pBdC33R7vX",
        "outputId": "fb55557f-98b0-4d5d-90aa-337846dcfbe7"
      },
      "execution_count": 52,
      "outputs": [
        {
          "output_type": "execute_result",
          "data": {
            "text/plain": [
              "count    59092.000000\n",
              "mean         2.685135\n",
              "std          0.483601\n",
              "min          1.000000\n",
              "25%          2.000000\n",
              "50%          3.000000\n",
              "75%          3.000000\n",
              "max          3.000000\n",
              "Name: Family_Hist_1, dtype: float64"
            ]
          },
          "metadata": {},
          "execution_count": 52
        }
      ]
    },
    {
      "cell_type": "markdown",
      "source": [
        "This data looks normal, no large outliers. The only thing we need to change is that this data type is suppose to be an object since the data dictionary labels it as nominal categorical."
      ],
      "metadata": {
        "id": "YUACoQBVSK9s"
      }
    },
    {
      "cell_type": "code",
      "source": [
        "df['Family_Hist_1'] = df['Family_Hist_1'].astype(object)"
      ],
      "metadata": {
        "id": "_5sDJFN4SRuG"
      },
      "execution_count": 53,
      "outputs": []
    },
    {
      "cell_type": "code",
      "source": [
        "df['Family_Hist_2'].describe()"
      ],
      "metadata": {
        "colab": {
          "base_uri": "https://localhost:8080/"
        },
        "id": "Pq85nHQUSG3H",
        "outputId": "ad1a17e7-b3b0-4feb-b22f-2ef9d8ed5d48"
      },
      "execution_count": 54,
      "outputs": [
        {
          "output_type": "execute_result",
          "data": {
            "text/plain": [
              "count    30481.000000\n",
              "mean         0.476568\n",
              "std          0.153717\n",
              "min          0.028986\n",
              "25%          0.362319\n",
              "50%          0.463768\n",
              "75%          0.579710\n",
              "max          1.000000\n",
              "Name: Family_Hist_2, dtype: float64"
            ]
          },
          "metadata": {},
          "execution_count": 54
        }
      ]
    },
    {
      "cell_type": "markdown",
      "source": [
        "This data looks normal, no large outliers. "
      ],
      "metadata": {
        "id": "DOYvMswzSQk_"
      }
    },
    {
      "cell_type": "code",
      "source": [
        "df['Family_Hist_4'].describe()"
      ],
      "metadata": {
        "colab": {
          "base_uri": "https://localhost:8080/"
        },
        "id": "8KFPkgZmSHo9",
        "outputId": "90c5ddb6-8bc7-4d29-c191-525ab17e7147"
      },
      "execution_count": 55,
      "outputs": [
        {
          "output_type": "execute_result",
          "data": {
            "text/plain": [
              "count    39925.000000\n",
              "mean         0.446748\n",
              "std          0.161857\n",
              "min          0.000000\n",
              "25%          0.323944\n",
              "50%          0.436620\n",
              "75%          0.563380\n",
              "max          0.943662\n",
              "Name: Family_Hist_4, dtype: float64"
            ]
          },
          "metadata": {},
          "execution_count": 55
        }
      ]
    },
    {
      "cell_type": "markdown",
      "source": [
        "This data looks normal, no large outliers. "
      ],
      "metadata": {
        "id": "HjXJh7pzSbvs"
      }
    },
    {
      "cell_type": "code",
      "source": [
        "df['Medical_History_1'].describe()"
      ],
      "metadata": {
        "colab": {
          "base_uri": "https://localhost:8080/"
        },
        "id": "IG0b4io6SifR",
        "outputId": "5760e09d-8243-420e-c831-32ec04302fbf"
      },
      "execution_count": 56,
      "outputs": [
        {
          "output_type": "execute_result",
          "data": {
            "text/plain": [
              "count    50259.000000\n",
              "mean         7.957799\n",
              "std         13.035598\n",
              "min          0.000000\n",
              "25%          2.000000\n",
              "50%          4.000000\n",
              "75%          9.000000\n",
              "max        240.000000\n",
              "Name: Medical_History_1, dtype: float64"
            ]
          },
          "metadata": {},
          "execution_count": 56
        }
      ]
    },
    {
      "cell_type": "markdown",
      "source": [
        "This data looks normal, no large outliers. The only thing we need to change is that this data type is suppose to be an object since the data dictionary labels it as nominal categorical."
      ],
      "metadata": {
        "id": "biV-HKt6SvPg"
      }
    },
    {
      "cell_type": "code",
      "source": [
        "df['Medical_History_1'] = df['Medical_History_1'].astype(object)"
      ],
      "metadata": {
        "id": "L_f9Ye2OSuJu"
      },
      "execution_count": 57,
      "outputs": []
    },
    {
      "cell_type": "code",
      "source": [
        "df['Medical_History_2'].describe()"
      ],
      "metadata": {
        "colab": {
          "base_uri": "https://localhost:8080/"
        },
        "id": "L5VkJkfdSpO-",
        "outputId": "021cf009-db75-4337-a3a5-ea448ee56ded"
      },
      "execution_count": 58,
      "outputs": [
        {
          "output_type": "execute_result",
          "data": {
            "text/plain": [
              "count    59092.000000\n",
              "mean       253.958218\n",
              "std        178.641885\n",
              "min          1.000000\n",
              "25%        112.000000\n",
              "50%        162.000000\n",
              "75%        418.000000\n",
              "max        648.000000\n",
              "Name: Medical_History_2, dtype: float64"
            ]
          },
          "metadata": {},
          "execution_count": 58
        }
      ]
    },
    {
      "cell_type": "markdown",
      "source": [
        "This data looks normal, no large outliers. The only thing we need to change is that this data type is suppose to be an object since the data dictionary labels it as nominal categorical."
      ],
      "metadata": {
        "id": "hvNuRcpiS3Ri"
      }
    },
    {
      "cell_type": "code",
      "source": [
        "df['Medical_History_2'] = df['Medical_History_2'].astype(object)"
      ],
      "metadata": {
        "id": "YeeygVisS4Dn"
      },
      "execution_count": 59,
      "outputs": []
    },
    {
      "cell_type": "code",
      "source": [
        "df['Response'].describe()"
      ],
      "metadata": {
        "colab": {
          "base_uri": "https://localhost:8080/"
        },
        "id": "Rld52WyYblRj",
        "outputId": "56ccd336-3c5e-49a9-9589-0d996dace8bc"
      },
      "execution_count": 85,
      "outputs": [
        {
          "output_type": "execute_result",
          "data": {
            "text/plain": [
              "count    59092.000000\n",
              "mean         5.634299\n",
              "std          2.457040\n",
              "min          1.000000\n",
              "25%          4.000000\n",
              "50%          6.000000\n",
              "75%          8.000000\n",
              "max          8.000000\n",
              "Name: Response, dtype: float64"
            ]
          },
          "metadata": {},
          "execution_count": 85
        }
      ]
    },
    {
      "cell_type": "markdown",
      "source": [
        "This data looks normal, no large outliers. The only thing we need to change is that this data type is suppose to be an object since the data dictionary labels it as nominal categorical."
      ],
      "metadata": {
        "id": "8ZnF65i2brCr"
      }
    },
    {
      "cell_type": "code",
      "source": [
        "df['Response'] = df['Response'].astype(object)"
      ],
      "metadata": {
        "id": "bZKabzRvbscH"
      },
      "execution_count": 86,
      "outputs": []
    },
    {
      "cell_type": "code",
      "source": [
        "df.info()"
      ],
      "metadata": {
        "colab": {
          "base_uri": "https://localhost:8080/"
        },
        "id": "BirtL_HbS_B3",
        "outputId": "6b0c2cca-382d-4bc9-963b-14597e07cb69"
      },
      "execution_count": 87,
      "outputs": [
        {
          "output_type": "stream",
          "name": "stdout",
          "text": [
            "<class 'pandas.core.frame.DataFrame'>\n",
            "Int64Index: 59092 entries, 0 to 59380\n",
            "Data columns (total 22 columns):\n",
            " #   Column               Non-Null Count  Dtype  \n",
            "---  ------               --------------  -----  \n",
            " 0   Product_Info_1       59092 non-null  object \n",
            " 1   Product_Info_2       59092 non-null  object \n",
            " 2   Product_Info_3       59092 non-null  object \n",
            " 3   Product_Info_4       59092 non-null  float64\n",
            " 4   Product_Info_5       59092 non-null  object \n",
            " 5   Product_Info_6       59092 non-null  object \n",
            " 6   Product_Info_7       59092 non-null  object \n",
            " 7   Ins_Age              59092 non-null  float64\n",
            " 8   Ht                   59092 non-null  float64\n",
            " 9   Wt                   59092 non-null  float64\n",
            " 10  BMI                  59092 non-null  float64\n",
            " 11  Employment_Info_4    52322 non-null  float64\n",
            " 12  Employment_Info_6    48357 non-null  float64\n",
            " 13  InsuredInfo_1        59092 non-null  object \n",
            " 14  Insurance_History_1  59092 non-null  object \n",
            " 15  Insurance_History_5  33937 non-null  float64\n",
            " 16  Family_Hist_1        59092 non-null  object \n",
            " 17  Family_Hist_2        30481 non-null  float64\n",
            " 18  Family_Hist_4        39925 non-null  float64\n",
            " 19  Medical_History_1    50259 non-null  object \n",
            " 20  Medical_History_2    59092 non-null  object \n",
            " 21  Response             59092 non-null  object \n",
            "dtypes: float64(10), object(12)\n",
            "memory usage: 10.4+ MB\n"
          ]
        }
      ]
    },
    {
      "cell_type": "markdown",
      "source": [
        "As we can see, the dtypes from above match with the data dictionary. We will deal with missing values during preprocessing. "
      ],
      "metadata": {
        "id": "eP0NNu-eU50Z"
      }
    },
    {
      "cell_type": "markdown",
      "source": [
        "## Exploratory Visualizations\n"
      ],
      "metadata": {
        "id": "iawMCyjudBbj"
      }
    },
    {
      "cell_type": "code",
      "source": [
        "sns.countplot(x=df[\"Product_Info_1\"])"
      ],
      "metadata": {
        "colab": {
          "base_uri": "https://localhost:8080/",
          "height": 300
        },
        "id": "ZGwAuJ6DS_-Y",
        "outputId": "4559b780-ade1-4234-d5f6-56b72dafece8"
      },
      "execution_count": 61,
      "outputs": [
        {
          "output_type": "execute_result",
          "data": {
            "text/plain": [
              "<Axes: xlabel='Product_Info_1', ylabel='count'>"
            ]
          },
          "metadata": {},
          "execution_count": 61
        },
        {
          "output_type": "display_data",
          "data": {
            "text/plain": [
              "<Figure size 432x288 with 1 Axes>"
            ],
            "image/png": "[encoded data removed]"
          },
          "metadata": {
            "needs_background": "light"
          }
        }
      ]
    },
    {
      "cell_type": "markdown",
      "source": [
        "We see that most of the customer's are 1. "
      ],
      "metadata": {
        "id": "29jsm1FwdV9A"
      }
    },
    {
      "cell_type": "code",
      "source": [
        "sns.countplot(x=df[\"Product_Info_2\"])"
      ],
      "metadata": {
        "colab": {
          "base_uri": "https://localhost:8080/",
          "height": 297
        },
        "id": "gqGIm3dtWbFy",
        "outputId": "f1232629-215e-4bbb-d7f2-3c38ee842113"
      },
      "execution_count": 62,
      "outputs": [
        {
          "output_type": "execute_result",
          "data": {
            "text/plain": [
              "<Axes: xlabel='Product_Info_2', ylabel='count'>"
            ]
          },
          "metadata": {},
          "execution_count": 62
        },
        {
          "output_type": "display_data",
          "data": {
            "text/plain": [
              "<Figure size 432x288 with 1 Axes>"
            ],
            "image/png": "[encoded data removed]"
          },
          "metadata": {
            "needs_background": "light"
          }
        }
      ]
    },
    {
      "cell_type": "markdown",
      "source": [
        "We see that most of the customer's are 1. "
      ],
      "metadata": {
        "id": "NBs0ElD8db0g"
      }
    },
    {
      "cell_type": "code",
      "source": [
        "sns.countplot(x=df[\"Product_Info_3\"])"
      ],
      "metadata": {
        "colab": {
          "base_uri": "https://localhost:8080/",
          "height": 297
        },
        "id": "pIZOuymzWe8X",
        "outputId": "708c13e4-84d5-43d4-8752-9b77db3c13ae"
      },
      "execution_count": 63,
      "outputs": [
        {
          "output_type": "execute_result",
          "data": {
            "text/plain": [
              "<Axes: xlabel='Product_Info_3', ylabel='count'>"
            ]
          },
          "metadata": {},
          "execution_count": 63
        },
        {
          "output_type": "display_data",
          "data": {
            "text/plain": [
              "<Figure size 432x288 with 1 Axes>"
            ],
            "image/png": "[encoded data removed]"
          },
          "metadata": {
            "needs_background": "light"
          }
        }
      ]
    },
    {
      "cell_type": "markdown",
      "source": [
        "We see that most of the customer's are 62. "
      ],
      "metadata": {
        "id": "K16uJ6eRdfxc"
      }
    },
    {
      "cell_type": "code",
      "source": [
        "sns.histplot(data=df, x='Product_Info_4')"
      ],
      "metadata": {
        "colab": {
          "base_uri": "https://localhost:8080/",
          "height": 297
        },
        "id": "Hkz76FYkWiBt",
        "outputId": "b32491cc-0255-4fc3-e469-595079585324"
      },
      "execution_count": 64,
      "outputs": [
        {
          "output_type": "execute_result",
          "data": {
            "text/plain": [
              "<Axes: xlabel='Product_Info_4', ylabel='Count'>"
            ]
          },
          "metadata": {},
          "execution_count": 64
        },
        {
          "output_type": "display_data",
          "data": {
            "text/plain": [
              "<Figure size 432x288 with 1 Axes>"
            ],
            "image/png": "[encoded data removed]"
          },
          "metadata": {
            "needs_background": "light"
          }
        }
      ]
    },
    {
      "cell_type": "markdown",
      "source": [
        "We see that most of the customers are scattered. "
      ],
      "metadata": {
        "id": "g5Xq8J4fdi0h"
      }
    },
    {
      "cell_type": "code",
      "source": [
        "sns.countplot(x=df[\"Product_Info_5\"])"
      ],
      "metadata": {
        "colab": {
          "base_uri": "https://localhost:8080/",
          "height": 297
        },
        "id": "uM7VdeV2WjFL",
        "outputId": "196be336-8acd-404e-875b-615d8aed1cc7"
      },
      "execution_count": 65,
      "outputs": [
        {
          "output_type": "execute_result",
          "data": {
            "text/plain": [
              "<Axes: xlabel='Product_Info_5', ylabel='count'>"
            ]
          },
          "metadata": {},
          "execution_count": 65
        },
        {
          "output_type": "display_data",
          "data": {
            "text/plain": [
              "<Figure size 432x288 with 1 Axes>"
            ],
            "image/png": "[encoded data removed]"
          },
          "metadata": {
            "needs_background": "light"
          }
        }
      ]
    },
    {
      "cell_type": "markdown",
      "source": [
        "We see that most of the customer's are 2."
      ],
      "metadata": {
        "id": "QeXYEWaldqrr"
      }
    },
    {
      "cell_type": "code",
      "source": [
        "sns.countplot(x=df[\"Product_Info_6\"])"
      ],
      "metadata": {
        "colab": {
          "base_uri": "https://localhost:8080/",
          "height": 297
        },
        "id": "Zvdw-q4GWkIF",
        "outputId": "bee50747-3575-4fb9-d343-2da8865910e8"
      },
      "execution_count": 66,
      "outputs": [
        {
          "output_type": "execute_result",
          "data": {
            "text/plain": [
              "<Axes: xlabel='Product_Info_6', ylabel='count'>"
            ]
          },
          "metadata": {},
          "execution_count": 66
        },
        {
          "output_type": "display_data",
          "data": {
            "text/plain": [
              "<Figure size 432x288 with 1 Axes>"
            ],
            "image/png": "[encoded data removed]"
          },
          "metadata": {
            "needs_background": "light"
          }
        }
      ]
    },
    {
      "cell_type": "markdown",
      "source": [
        "We see that most of the customer's are 3. "
      ],
      "metadata": {
        "id": "ScEzmjHtds8D"
      }
    },
    {
      "cell_type": "code",
      "source": [
        "sns.countplot(x=df[\"Product_Info_7\"])"
      ],
      "metadata": {
        "colab": {
          "base_uri": "https://localhost:8080/",
          "height": 299
        },
        "id": "tOMlD-dsWlKk",
        "outputId": "7e2d4101-56af-4655-e826-2433a8809deb"
      },
      "execution_count": 67,
      "outputs": [
        {
          "output_type": "execute_result",
          "data": {
            "text/plain": [
              "<Axes: xlabel='Product_Info_7', ylabel='count'>"
            ]
          },
          "metadata": {},
          "execution_count": 67
        },
        {
          "output_type": "display_data",
          "data": {
            "text/plain": [
              "<Figure size 432x288 with 1 Axes>"
            ],
            "image/png": "[encoded data removed]"
          },
          "metadata": {
            "needs_background": "light"
          }
        }
      ]
    },
    {
      "cell_type": "markdown",
      "source": [
        "We see that most of the customer's are 1. "
      ],
      "metadata": {
        "id": "aJzcyr62dupg"
      }
    },
    {
      "cell_type": "code",
      "source": [
        "sns.histplot(data=df, x='Ins_Age')"
      ],
      "metadata": {
        "colab": {
          "base_uri": "https://localhost:8080/",
          "height": 297
        },
        "id": "JWHVEfykW1tK",
        "outputId": "697168c2-8cb9-4f01-e9f5-a525d90a5f89"
      },
      "execution_count": 68,
      "outputs": [
        {
          "output_type": "execute_result",
          "data": {
            "text/plain": [
              "<Axes: xlabel='Ins_Age', ylabel='Count'>"
            ]
          },
          "metadata": {},
          "execution_count": 68
        },
        {
          "output_type": "display_data",
          "data": {
            "text/plain": [
              "<Figure size 432x288 with 1 Axes>"
            ],
            "image/png": "[encoded data removed]"
          },
          "metadata": {
            "needs_background": "light"
          }
        }
      ]
    },
    {
      "cell_type": "markdown",
      "source": [
        "We see that most of the customer are distributed evenly from 0.3 to o.7. "
      ],
      "metadata": {
        "id": "FNjeFJPzdv08"
      }
    },
    {
      "cell_type": "code",
      "source": [
        "sns.histplot(data=df, x='Ht')"
      ],
      "metadata": {
        "colab": {
          "base_uri": "https://localhost:8080/",
          "height": 296
        },
        "id": "SZAa9OlJZUXT",
        "outputId": "8e2af794-675e-4543-8d14-21a50ccbaa9e"
      },
      "execution_count": 69,
      "outputs": [
        {
          "output_type": "execute_result",
          "data": {
            "text/plain": [
              "<Axes: xlabel='Ht', ylabel='Count'>"
            ]
          },
          "metadata": {},
          "execution_count": 69
        },
        {
          "output_type": "display_data",
          "data": {
            "text/plain": [
              "<Figure size 432x288 with 1 Axes>"
            ],
            "image/png": "[encoded data removed]"
          },
          "metadata": {
            "needs_background": "light"
          }
        }
      ]
    },
    {
      "cell_type": "markdown",
      "source": [
        "We see that most of the customer are distributed evenly from 0.6 to o.8. "
      ],
      "metadata": {
        "id": "iSeo4e3Jd2bg"
      }
    },
    {
      "cell_type": "code",
      "source": [
        "sns.histplot(data=df, x='Wt')"
      ],
      "metadata": {
        "colab": {
          "base_uri": "https://localhost:8080/",
          "height": 300
        },
        "id": "3ofejBQNZjph",
        "outputId": "776f3444-db7b-4488-8bb3-f2063f0b8ece"
      },
      "execution_count": 70,
      "outputs": [
        {
          "output_type": "execute_result",
          "data": {
            "text/plain": [
              "<Axes: xlabel='Wt', ylabel='Count'>"
            ]
          },
          "metadata": {},
          "execution_count": 70
        },
        {
          "output_type": "display_data",
          "data": {
            "text/plain": [
              "<Figure size 432x288 with 1 Axes>"
            ],
            "image/png": "[encoded data removed]"
          },
          "metadata": {
            "needs_background": "light"
          }
        }
      ]
    },
    {
      "cell_type": "markdown",
      "source": [
        "We see that most of the customer are distributed evenly from 0.3 to o.4. "
      ],
      "metadata": {
        "id": "MY1G61KGd7VM"
      }
    },
    {
      "cell_type": "code",
      "source": [
        "sns.histplot(data=df, x='BMI')"
      ],
      "metadata": {
        "colab": {
          "base_uri": "https://localhost:8080/",
          "height": 296
        },
        "id": "aCGD9CD2Zl_c",
        "outputId": "2252c97a-08ca-48f7-ab76-ac4eddeb318f"
      },
      "execution_count": 71,
      "outputs": [
        {
          "output_type": "execute_result",
          "data": {
            "text/plain": [
              "<Axes: xlabel='BMI', ylabel='Count'>"
            ]
          },
          "metadata": {},
          "execution_count": 71
        },
        {
          "output_type": "display_data",
          "data": {
            "text/plain": [
              "<Figure size 432x288 with 1 Axes>"
            ],
            "image/png": "[encoded data removed]"
          },
          "metadata": {
            "needs_background": "light"
          }
        }
      ]
    },
    {
      "cell_type": "markdown",
      "source": [
        "We see that most of the customer are distributed evenly from 0.4 to o.6. "
      ],
      "metadata": {
        "id": "73U0H_K5d_kb"
      }
    },
    {
      "cell_type": "code",
      "source": [
        "sns.histplot(data=df, x='Employment_Info_4')"
      ],
      "metadata": {
        "colab": {
          "base_uri": "https://localhost:8080/",
          "height": 297
        },
        "id": "JOR20ulvZpMy",
        "outputId": "00137f69-bad9-48dc-c2a6-7067726dc34a"
      },
      "execution_count": 72,
      "outputs": [
        {
          "output_type": "execute_result",
          "data": {
            "text/plain": [
              "<Axes: xlabel='Employment_Info_4', ylabel='Count'>"
            ]
          },
          "metadata": {},
          "execution_count": 72
        },
        {
          "output_type": "display_data",
          "data": {
            "text/plain": [
              "<Figure size 432x288 with 1 Axes>"
            ],
            "image/png": "[encoded data removed]"
          },
          "metadata": {
            "needs_background": "light"
          }
        }
      ]
    },
    {
      "cell_type": "markdown",
      "source": [
        "We see that most of the customer are near 0. "
      ],
      "metadata": {
        "id": "wymvq9JteCi_"
      }
    },
    {
      "cell_type": "code",
      "source": [
        "sns.histplot(data=df, x='Employment_Info_6')"
      ],
      "metadata": {
        "colab": {
          "base_uri": "https://localhost:8080/",
          "height": 297
        },
        "id": "hVjGPMN8Zp-n",
        "outputId": "fd3735c7-d155-44e0-cf90-590ed7a4d733"
      },
      "execution_count": 73,
      "outputs": [
        {
          "output_type": "execute_result",
          "data": {
            "text/plain": [
              "<Axes: xlabel='Employment_Info_6', ylabel='Count'>"
            ]
          },
          "metadata": {},
          "execution_count": 73
        },
        {
          "output_type": "display_data",
          "data": {
            "text/plain": [
              "<Figure size 432x288 with 1 Axes>"
            ],
            "image/png": "[encoded data removed]"
          },
          "metadata": {
            "needs_background": "light"
          }
        }
      ]
    },
    {
      "cell_type": "markdown",
      "source": [
        "We see that most of the customer are distributed randomly."
      ],
      "metadata": {
        "id": "ROQO4GpTeIYo"
      }
    },
    {
      "cell_type": "code",
      "source": [
        "sns.countplot(x=df[\"InsuredInfo_1\"])"
      ],
      "metadata": {
        "colab": {
          "base_uri": "https://localhost:8080/",
          "height": 297
        },
        "id": "o0tFkv84ZzxA",
        "outputId": "8af8a6a1-44d4-41e2-b834-59744afa8719"
      },
      "execution_count": 74,
      "outputs": [
        {
          "output_type": "execute_result",
          "data": {
            "text/plain": [
              "<Axes: xlabel='InsuredInfo_1', ylabel='count'>"
            ]
          },
          "metadata": {},
          "execution_count": 74
        },
        {
          "output_type": "display_data",
          "data": {
            "text/plain": [
              "<Figure size 432x288 with 1 Axes>"
            ],
            "image/png": "[encoded data removed]"
          },
          "metadata": {
            "needs_background": "light"
          }
        }
      ]
    },
    {
      "cell_type": "markdown",
      "source": [
        "We see that most of the customer are 1.\n"
      ],
      "metadata": {
        "id": "DRbe861PeK8U"
      }
    },
    {
      "cell_type": "code",
      "source": [
        "sns.countplot(x=df[\"Insurance_History_1\"])"
      ],
      "metadata": {
        "colab": {
          "base_uri": "https://localhost:8080/",
          "height": 297
        },
        "id": "u10ALxePZ6Pa",
        "outputId": "1c442a09-c770-4b88-eebc-aa4a31a82d2c"
      },
      "execution_count": 75,
      "outputs": [
        {
          "output_type": "execute_result",
          "data": {
            "text/plain": [
              "<Axes: xlabel='Insurance_History_1', ylabel='count'>"
            ]
          },
          "metadata": {},
          "execution_count": 75
        },
        {
          "output_type": "display_data",
          "data": {
            "text/plain": [
              "<Figure size 432x288 with 1 Axes>"
            ],
            "image/png": "[encoded data removed]"
          },
          "metadata": {
            "needs_background": "light"
          }
        }
      ]
    },
    {
      "cell_type": "code",
      "source": [
        "We see that most of the customer are 2."
      ],
      "metadata": {
        "id": "d4cpGB2peOdA"
      },
      "execution_count": null,
      "outputs": []
    },
    {
      "cell_type": "code",
      "source": [
        "sns.histplot(data=df, x='Insurance_History_5')"
      ],
      "metadata": {
        "colab": {
          "base_uri": "https://localhost:8080/",
          "height": 297
        },
        "id": "FUtkFpS-Z_KK",
        "outputId": "b847cd04-25dd-4677-b168-7572e8947f59"
      },
      "execution_count": 76,
      "outputs": [
        {
          "output_type": "execute_result",
          "data": {
            "text/plain": [
              "<Axes: xlabel='Insurance_History_5', ylabel='Count'>"
            ]
          },
          "metadata": {},
          "execution_count": 76
        },
        {
          "output_type": "display_data",
          "data": {
            "text/plain": [
              "<Figure size 432x288 with 1 Axes>"
            ],
            "image/png": "[encoded data removed]"
          },
          "metadata": {
            "needs_background": "light"
          }
        }
      ]
    },
    {
      "cell_type": "code",
      "source": [
        "df['Insurance_History_5'].value_counts()"
      ],
      "metadata": {
        "colab": {
          "base_uri": "https://localhost:8080/"
        },
        "id": "og6IPdjsapK6",
        "outputId": "ebe60297-4e52-49fc-b976-c2b7620c81e3"
      },
      "execution_count": 77,
      "outputs": [
        {
          "output_type": "execute_result",
          "data": {
            "text/plain": [
              "0.000667    5331\n",
              "0.001667    3550\n",
              "0.003333    2884\n",
              "0.000333    2486\n",
              "0.001000    1530\n",
              "            ... \n",
              "0.001001       1\n",
              "0.000039       1\n",
              "0.001662       1\n",
              "0.001287       1\n",
              "0.001377       1\n",
              "Name: Insurance_History_5, Length: 2263, dtype: int64"
            ]
          },
          "metadata": {},
          "execution_count": 77
        }
      ]
    },
    {
      "cell_type": "markdown",
      "source": [
        "We see that most of the customer are near 0. "
      ],
      "metadata": {
        "id": "D8V6dL_deR1v"
      }
    },
    {
      "cell_type": "code",
      "source": [
        "sns.countplot(x=df[\"Family_Hist_1\"])"
      ],
      "metadata": {
        "colab": {
          "base_uri": "https://localhost:8080/",
          "height": 297
        },
        "id": "b5fXIMe8auA8",
        "outputId": "b8cc521a-3918-4c8f-950d-b7a108fd6901"
      },
      "execution_count": 78,
      "outputs": [
        {
          "output_type": "execute_result",
          "data": {
            "text/plain": [
              "<Axes: xlabel='Family_Hist_1', ylabel='count'>"
            ]
          },
          "metadata": {},
          "execution_count": 78
        },
        {
          "output_type": "display_data",
          "data": {
            "text/plain": [
              "<Figure size 432x288 with 1 Axes>"
            ],
            "image/png": "[encoded data removed]"
          },
          "metadata": {
            "needs_background": "light"
          }
        }
      ]
    },
    {
      "cell_type": "markdown",
      "source": [
        "We see that most of the customer are 3."
      ],
      "metadata": {
        "id": "9OqhaUEHeUhB"
      }
    },
    {
      "cell_type": "code",
      "source": [
        "sns.histplot(data=df, x='Family_Hist_2')"
      ],
      "metadata": {
        "colab": {
          "base_uri": "https://localhost:8080/",
          "height": 297
        },
        "id": "kgdHu2dva62C",
        "outputId": "a4711cf7-8e79-4036-e627-30f70666fb6a"
      },
      "execution_count": 79,
      "outputs": [
        {
          "output_type": "execute_result",
          "data": {
            "text/plain": [
              "<Axes: xlabel='Family_Hist_2', ylabel='Count'>"
            ]
          },
          "metadata": {},
          "execution_count": 79
        },
        {
          "output_type": "display_data",
          "data": {
            "text/plain": [
              "<Figure size 432x288 with 1 Axes>"
            ],
            "image/png": "[encoded data removed]"
          },
          "metadata": {
            "needs_background": "light"
          }
        }
      ]
    },
    {
      "cell_type": "markdown",
      "source": [
        "We see that most of the customer are distributed from 0.3 to 0.7.\n",
        "\n",
        "\n",
        "\n"
      ],
      "metadata": {
        "id": "kUyyFp2geZS9"
      }
    },
    {
      "cell_type": "code",
      "source": [
        "sns.histplot(data=df, x='Family_Hist_4')"
      ],
      "metadata": {
        "colab": {
          "base_uri": "https://localhost:8080/",
          "height": 297
        },
        "id": "J1mMBw7wbBPC",
        "outputId": "abce2f75-575a-4687-9f72-9e1c6b9dd4c7"
      },
      "execution_count": 80,
      "outputs": [
        {
          "output_type": "execute_result",
          "data": {
            "text/plain": [
              "<Axes: xlabel='Family_Hist_4', ylabel='Count'>"
            ]
          },
          "metadata": {},
          "execution_count": 80
        },
        {
          "output_type": "display_data",
          "data": {
            "text/plain": [
              "<Figure size 432x288 with 1 Axes>"
            ],
            "image/png": "[encoded data removed]"
          },
          "metadata": {
            "needs_background": "light"
          }
        }
      ]
    },
    {
      "cell_type": "markdown",
      "source": [
        "We see that most of the customer are distributed from 0.3 to 0.6.\n"
      ],
      "metadata": {
        "id": "zKnT_8Avec_m"
      }
    },
    {
      "cell_type": "code",
      "source": [
        "sns.countplot(x=df[\"Medical_History_1\"])"
      ],
      "metadata": {
        "colab": {
          "base_uri": "https://localhost:8080/",
          "height": 301
        },
        "id": "cDUUqBGqbD-0",
        "outputId": "546847aa-7a89-4bbc-8977-27e40e154c97"
      },
      "execution_count": 81,
      "outputs": [
        {
          "output_type": "execute_result",
          "data": {
            "text/plain": [
              "<Axes: xlabel='Medical_History_1', ylabel='count'>"
            ]
          },
          "metadata": {},
          "execution_count": 81
        },
        {
          "output_type": "display_data",
          "data": {
            "text/plain": [
              "<Figure size 432x288 with 1 Axes>"
            ],
            "image/png": "[encoded data removed]"
          },
          "metadata": {
            "needs_background": "light"
          }
        }
      ]
    },
    {
      "cell_type": "code",
      "source": [
        "df['Medical_History_1'].value_counts()"
      ],
      "metadata": {
        "colab": {
          "base_uri": "https://localhost:8080/"
        },
        "id": "Hj5Fl7XEbUrW",
        "outputId": "33cb0fe2-5f4e-49af-8d57-887e39f098de"
      },
      "execution_count": 83,
      "outputs": [
        {
          "output_type": "execute_result",
          "data": {
            "text/plain": [
              "1.0      7626\n",
              "2.0      5708\n",
              "0.0      4772\n",
              "3.0      4704\n",
              "4.0      3651\n",
              "         ... \n",
              "161.0       1\n",
              "201.0       1\n",
              "191.0       1\n",
              "141.0       1\n",
              "187.0       1\n",
              "Name: Medical_History_1, Length: 171, dtype: int64"
            ]
          },
          "metadata": {},
          "execution_count": 83
        }
      ]
    },
    {
      "cell_type": "markdown",
      "source": [
        "We see that most of the customer are near 1.\n"
      ],
      "metadata": {
        "id": "6oU1kFXRehUs"
      }
    },
    {
      "cell_type": "code",
      "source": [
        "sns.countplot(x=df[\"Medical_History_2\"])"
      ],
      "metadata": {
        "colab": {
          "base_uri": "https://localhost:8080/",
          "height": 297
        },
        "id": "COv1CZUebItJ",
        "outputId": "eb955d6d-77b2-4ac0-d331-f304bb50ad78"
      },
      "execution_count": 82,
      "outputs": [
        {
          "output_type": "execute_result",
          "data": {
            "text/plain": [
              "<Axes: xlabel='Medical_History_2', ylabel='count'>"
            ]
          },
          "metadata": {},
          "execution_count": 82
        },
        {
          "output_type": "display_data",
          "data": {
            "text/plain": [
              "<Figure size 432x288 with 1 Axes>"
            ],
            "image/png": "[encoded data removed]"
          },
          "metadata": {
            "needs_background": "light"
          }
        }
      ]
    },
    {
      "cell_type": "code",
      "source": [
        "df['Medical_History_2'].value_counts()"
      ],
      "metadata": {
        "colab": {
          "base_uri": "https://localhost:8080/"
        },
        "id": "YiZe2F1vbbjq",
        "outputId": "cddd81c2-c9d7-467d-e153-fbe9f54f9080"
      },
      "execution_count": 84,
      "outputs": [
        {
          "output_type": "execute_result",
          "data": {
            "text/plain": [
              "112    10959\n",
              "162     8292\n",
              "491     5764\n",
              "335     3022\n",
              "161     2938\n",
              "       ...  \n",
              "210        1\n",
              "593        1\n",
              "580        1\n",
              "321        1\n",
              "158        1\n",
              "Name: Medical_History_2, Length: 579, dtype: int64"
            ]
          },
          "metadata": {},
          "execution_count": 84
        }
      ]
    },
    {
      "cell_type": "markdown",
      "source": [
        "We see that most of the customer are distributed randomly. \n"
      ],
      "metadata": {
        "id": "XobtQP-Oeo_f"
      }
    },
    {
      "cell_type": "code",
      "source": [
        "sns.countplot(x=df[\"Response\"])"
      ],
      "metadata": {
        "colab": {
          "base_uri": "https://localhost:8080/",
          "height": 297
        },
        "id": "4-9VrJVxbed1",
        "outputId": "27b2f511-9331-4220-b1ba-1c70b2d8c9d4"
      },
      "execution_count": 89,
      "outputs": [
        {
          "output_type": "execute_result",
          "data": {
            "text/plain": [
              "<Axes: xlabel='Response', ylabel='count'>"
            ]
          },
          "metadata": {},
          "execution_count": 89
        },
        {
          "output_type": "display_data",
          "data": {
            "text/plain": [
              "<Figure size 432x288 with 1 Axes>"
            ],
            "image/png": "[encoded data removed]"
          },
          "metadata": {
            "needs_background": "light"
          }
        }
      ]
    },
    {
      "cell_type": "markdown",
      "source": [
        "We see that most of the customer are 8. \n"
      ],
      "metadata": {
        "id": "BVT0Zg1her4C"
      }
    },
    {
      "cell_type": "code",
      "source": [
        "corr = df.corr()"
      ],
      "metadata": {
        "id": "QuwDTi_idN43"
      },
      "execution_count": 90,
      "outputs": []
    },
    {
      "cell_type": "code",
      "source": [
        "sns.heatmap(corr, cmap = 'Greens', annot = True)"
      ],
      "metadata": {
        "colab": {
          "base_uri": "https://localhost:8080/",
          "height": 377
        },
        "id": "2eoPjoyte0U6",
        "outputId": "c1f60975-e432-480b-ecfb-bb39f6049408"
      },
      "execution_count": 91,
      "outputs": [
        {
          "output_type": "execute_result",
          "data": {
            "text/plain": [
              "<Axes: >"
            ]
          },
          "metadata": {},
          "execution_count": 91
        },
        {
          "output_type": "display_data",
          "data": {
            "text/plain": [
              "<Figure size 432x288 with 2 Axes>"
            ],
            "image/png": "[encoded data removed]"
          },
          "metadata": {
            "needs_background": "light"
          }
        }
      ]
    },
    {
      "cell_type": "markdown",
      "source": [
        "We see that they are strong correlations with Ins_Age and Family_Hist_2, Ins_age and Family_Hist_4, and Family_Hist_4 and Family_Hist_2. They are moderate correlations between Employment_Info_6 with Family_Hist2 and Family_Hist_4. "
      ],
      "metadata": {
        "id": "HvfnUkt7e7rW"
      }
    }
  ]
}